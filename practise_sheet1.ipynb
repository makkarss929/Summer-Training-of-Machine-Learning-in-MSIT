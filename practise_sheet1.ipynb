{
 "cells": [
  {
   "cell_type": "code",
   "execution_count": 1,
   "metadata": {},
   "outputs": [],
   "source": [
    "f=open(\"C:\\\\users\\AMIT\\Desktop\\in_home.txt\")"
   ]
  },
  {
   "cell_type": "code",
   "execution_count": 2,
   "metadata": {},
   "outputs": [
    {
     "name": "stdout",
     "output_type": "stream",
     "text": [
      "my name is tarun makkar\n",
      "i am studying b.tech in maharaja surajmal institute of technology\n",
      "now i am ending python course\n"
     ]
    }
   ],
   "source": [
    "with open(\"C:\\\\users\\AMIT\\Desktop\\in_home.txt\") as f:\n",
    "    data=f.read()\n",
    "    print(data)# by using with function you have not to close() the file"
   ]
  },
  {
   "cell_type": "code",
   "execution_count": 3,
   "metadata": {},
   "outputs": [
    {
     "name": "stdout",
     "output_type": "stream",
     "text": [
      "my name is tarun makkar\n",
      "\n"
     ]
    },
    {
     "ename": "AttributeError",
     "evalue": "'str' object has no attribute 'spilt'",
     "output_type": "error",
     "traceback": [
      "\u001b[1;31m---------------------------------------------------------------------------\u001b[0m",
      "\u001b[1;31mAttributeError\u001b[0m                            Traceback (most recent call last)",
      "\u001b[1;32m<ipython-input-3-7a8b732a869f>\u001b[0m in \u001b[0;36m<module>\u001b[1;34m()\u001b[0m\n\u001b[0;32m      2\u001b[0m     \u001b[0mline\u001b[0m\u001b[1;33m=\u001b[0m\u001b[0mf\u001b[0m\u001b[1;33m.\u001b[0m\u001b[0mreadline\u001b[0m\u001b[1;33m(\u001b[0m\u001b[1;33m)\u001b[0m\u001b[1;33m\u001b[0m\u001b[0m\n\u001b[0;32m      3\u001b[0m     \u001b[0mprint\u001b[0m\u001b[1;33m(\u001b[0m\u001b[0mline\u001b[0m\u001b[1;33m)\u001b[0m\u001b[1;33m\u001b[0m\u001b[0m\n\u001b[1;32m----> 4\u001b[1;33m     \u001b[0mheader_list\u001b[0m\u001b[1;33m=\u001b[0m\u001b[0mline\u001b[0m\u001b[1;33m.\u001b[0m\u001b[0mspilt\u001b[0m\u001b[1;33m(\u001b[0m\u001b[1;34m','\u001b[0m\u001b[1;33m)\u001b[0m\u001b[1;33m\u001b[0m\u001b[0m\n\u001b[0m\u001b[0;32m      5\u001b[0m     \u001b[0mprint\u001b[0m\u001b[1;33m(\u001b[0m\u001b[0mheader_list\u001b[0m\u001b[1;33m)\u001b[0m\u001b[1;33m\u001b[0m\u001b[0m\n\u001b[0;32m      6\u001b[0m     \u001b[0mprint\u001b[0m\u001b[1;33m(\u001b[0m\u001b[0mheader_list\u001b[0m\u001b[1;33m[\u001b[0m\u001b[1;36m2\u001b[0m\u001b[1;33m]\u001b[0m\u001b[1;33m)\u001b[0m\u001b[1;33m\u001b[0m\u001b[0m\n",
      "\u001b[1;31mAttributeError\u001b[0m: 'str' object has no attribute 'spilt'"
     ]
    }
   ],
   "source": [
    "with open(\"C:\\\\users\\AMIT\\Desktop\\in_home.txt\") as f:\n",
    "    line=f.readline()\n",
    "    print(line)\n",
    "    header_list=line.spilt(',')\n",
    "    print(header_list)\n",
    "    print(header_list[2])"
   ]
  },
  {
   "cell_type": "code",
   "execution_count": 4,
   "metadata": {},
   "outputs": [],
   "source": [
    "f=open(\"C:\\\\users\\AMIT\\Desktop\\github_wine\\dataset_wine\\wine.csv\")"
   ]
  },
  {
   "cell_type": "code",
   "execution_count": 5,
   "metadata": {},
   "outputs": [
    {
     "name": "stdout",
     "output_type": "stream",
     "text": [
      "Wine,Alcohol,Malic.acid,Ash,Acl,Mg,Phenols,Flavanoids,Nonflavanoid.phenols,Proanth,Color.int,Hue,OD,Proline\n",
      "1,14.23,1.71,2.43,15.6,127,2.8,3.06,.28,2.29,5.64,1.04,3.92,1065\n",
      "1,13.2,1.78,2.14,11.2,100,2\n"
     ]
    }
   ],
   "source": [
    "with open(\"C:\\\\users\\AMIT\\Desktop\\github_wine\\dataset_wine\\wine.csv\") as f:\n",
    "    data=f.read()\n",
    "    print(data[:200])"
   ]
  },
  {
   "cell_type": "code",
   "execution_count": 6,
   "metadata": {},
   "outputs": [
    {
     "name": "stdout",
     "output_type": "stream",
     "text": [
      "['Wine', 'Alcohol', 'Malic.acid', 'Ash', 'Acl', 'Mg', 'Phenols', 'Flavanoids', 'Nonflavanoid.phenols', 'Proanth', 'Color.int', 'Hue', 'OD', 'Proline\\n']\n",
      "Ash\n",
      "['Wine', 'Alcohol']\n"
     ]
    }
   ],
   "source": [
    "#1st method \n",
    "with open(\"C:\\\\users\\AMIT\\Desktop\\github_wine\\dataset_wine\\wine.csv\") as f:\n",
    "    line=f.readline()\n",
    "    header_list=line.split(',')#spilt() function generates list\n",
    "    print(header_list)\n",
    "    print(header_list[3])\n",
    "    print(header_list[:2])"
   ]
  },
  {
   "cell_type": "code",
   "execution_count": 8,
   "metadata": {},
   "outputs": [
    {
     "ename": "ValueError",
     "evalue": "I/O operation on closed file.",
     "output_type": "error",
     "traceback": [
      "\u001b[1;31m---------------------------------------------------------------------------\u001b[0m",
      "\u001b[1;31mValueError\u001b[0m                                Traceback (most recent call last)",
      "\u001b[1;32m<ipython-input-8-d66af3340293>\u001b[0m in \u001b[0;36m<module>\u001b[1;34m()\u001b[0m\n\u001b[0;32m      1\u001b[0m \u001b[1;31m#2nd method\u001b[0m\u001b[1;33m\u001b[0m\u001b[1;33m\u001b[0m\u001b[0m\n\u001b[1;32m----> 2\u001b[1;33m \u001b[1;32mfor\u001b[0m \u001b[0mline\u001b[0m \u001b[1;32min\u001b[0m \u001b[0mf\u001b[0m\u001b[1;33m:\u001b[0m\u001b[1;33m\u001b[0m\u001b[0m\n\u001b[0m\u001b[0;32m      3\u001b[0m     \u001b[0mdata\u001b[0m\u001b[1;33m=\u001b[0m\u001b[0mline\u001b[0m\u001b[1;33m.\u001b[0m\u001b[0msplit\u001b[0m\u001b[1;33m(\u001b[0m\u001b[1;34m','\u001b[0m\u001b[1;33m)\u001b[0m\u001b[1;33m\u001b[0m\u001b[0m\n\u001b[0;32m      4\u001b[0m     \u001b[0mprint\u001b[0m\u001b[1;33m(\u001b[0m\u001b[0mdata\u001b[0m\u001b[1;33m[\u001b[0m\u001b[1;36m3\u001b[0m\u001b[1;33m]\u001b[0m\u001b[1;33m)\u001b[0m\u001b[1;33m\u001b[0m\u001b[0m\n\u001b[0;32m      5\u001b[0m     \u001b[1;32mbreak\u001b[0m\u001b[1;33m\u001b[0m\u001b[0m\n",
      "\u001b[1;31mValueError\u001b[0m: I/O operation on closed file."
     ]
    }
   ],
   "source": [
    "#2nd method\n",
    "for line in f:\n",
    "    data=line.split(',')\n",
    "    print(data[3])\n",
    "    break\n"
   ]
  },
  {
   "cell_type": "code",
   "execution_count": 9,
   "metadata": {},
   "outputs": [],
   "source": [
    "import csv"
   ]
  },
  {
   "cell_type": "code",
   "execution_count": 15,
   "metadata": {},
   "outputs": [
    {
     "name": "stdout",
     "output_type": "stream",
     "text": [
      "['Wine', 'Alcohol', 'Malic.acid', 'Ash', 'Acl', 'Mg', 'Phenols', 'Flavanoids', 'Nonflavanoid.phenols', 'Proanth', 'Color.int', 'Hue', 'OD', 'Proline\\n']\n",
      "['1', '14.23', '1.71', '2.43', '15.6', '127', '2.8', '3.06', '.28', '2.29', '5.64', '1.04', '3.92', '1065']\n"
     ]
    }
   ],
   "source": [
    "with open(\"C:\\\\users\\AMIT\\Desktop\\github_wine\\dataset_wine\\wine.csv\") as f:\n",
    "    reader=csv.reader(f,delimiter=\",\")\n",
    "    row=next(reader)\n",
    "    header_list=line.split(',')\n",
    "    print(header_list)\n",
    "    \n",
    "    for row in reader:\n",
    "        print(row)\n",
    "        break"
   ]
  },
  {
   "cell_type": "code",
   "execution_count": 16,
   "metadata": {},
   "outputs": [
    {
     "name": "stdout",
     "output_type": "stream",
     "text": [
      "1.71\n"
     ]
    }
   ],
   "source": [
    "with open(\"C:\\\\users\\AMIT\\Desktop\\github_wine\\dataset_wine\\wine.csv\") as f:\n",
    "    reader=csv.reader(f,delimiter=\",\")\n",
    "    row=next(reader)\n",
    "    for row in reader:\n",
    "        print(row[2])\n",
    "        break"
   ]
  },
  {
   "cell_type": "code",
   "execution_count": 17,
   "metadata": {},
   "outputs": [],
   "source": [
    "my_data=[\"tarun\",\"pratham\",'divyam',\"satyam\"]"
   ]
  },
  {
   "cell_type": "code",
   "execution_count": 20,
   "metadata": {},
   "outputs": [],
   "source": [
    "with open(\"C:\\\\users\\AMIT\\Desktop\\github_wine\\dataset_wine\\wine.csv\",\"a+\") as f:\n",
    "    writer=csv.writer(f,delimiter=\",\")\n",
    "    writer.writerow(my_data)\n",
    "    "
   ]
  },
  {
   "cell_type": "code",
   "execution_count": 28,
   "metadata": {},
   "outputs": [],
   "source": [
    "f=open(\"C:\\\\users\\AMIT\\Desktop\\github_wine\\dataset_wine\\wine.csv\",\"r\")\n",
    "data=f.read()\n",
    "#print(data[:])"
   ]
  },
  {
   "cell_type": "code",
   "execution_count": 27,
   "metadata": {},
   "outputs": [],
   "source": [
    "#WORKING WITH DICTIONARIES"
   ]
  },
  {
   "cell_type": "code",
   "execution_count": 30,
   "metadata": {},
   "outputs": [
    {
     "name": "stdout",
     "output_type": "stream",
     "text": [
      "OrderedDict([('Wine', '1'),\n",
      "             ('Alcohol', '14.23'),\n",
      "             ('Malic.acid', '1.71'),\n",
      "             ('Ash', '2.43'),\n",
      "             ('Acl', '15.6'),\n",
      "             ('Mg', '127'),\n",
      "             ('Phenols', '2.8'),\n",
      "             ('Flavanoids', '3.06'),\n",
      "             ('Nonflavanoid.phenols', '.28'),\n",
      "             ('Proanth', '2.29'),\n",
      "             ('Color.int', '5.64'),\n",
      "             ('Hue', '1.04'),\n",
      "             ('OD', '3.92'),\n",
      "             ('Proline', '1065')])\n"
     ]
    }
   ],
   "source": [
    "from pprint import pprint\n",
    "with open(\"C:\\\\users\\AMIT\\Desktop\\github_wine\\dataset_wine\\wine.csv\",\"r\") as f:\n",
    "    dict_reader=csv.DictReader(f,delimiter=\",\")\n",
    "    for row in dict_reader:\n",
    "        pprint(row)\n",
    "        break"
   ]
  },
  {
   "cell_type": "code",
   "execution_count": 32,
   "metadata": {},
   "outputs": [],
   "source": [
    "dict_to_write={'name':\"tarun\",\"age\":\"20\",\"college\":\"MSIT\"}\n",
    "with open(\"C:\\\\users\\AMIT\\Desktop\\github_wine\\dataset_wine\\wine.csv\",\"a+\") as f:\n",
    "    writer=csv.DictWriter(f,delimiter=\",\",fieldnames=dict_to_write.keys())\n",
    "    writer.writerow(dict_to_write)"
   ]
  },
  {
   "cell_type": "code",
   "execution_count": 34,
   "metadata": {},
   "outputs": [],
   "source": [
    "f=open(\"C:\\\\users\\AMIT\\Desktop\\github_wine\\dataset_wine\\wine.csv\",\"r\")\n",
    "data=f.read()\n",
    "#print(data)"
   ]
  },
  {
   "cell_type": "code",
   "execution_count": 1,
   "metadata": {},
   "outputs": [],
   "source": [
    "#DATETIME MODULE"
   ]
  },
  {
   "cell_type": "code",
   "execution_count": 6,
   "metadata": {},
   "outputs": [],
   "source": [
    "from datetime import datetime"
   ]
  },
  {
   "cell_type": "code",
   "execution_count": 8,
   "metadata": {},
   "outputs": [
    {
     "name": "stdout",
     "output_type": "stream",
     "text": [
      "2018-06-25 00:00:00\n"
     ]
    }
   ],
   "source": [
    "datestring=\"25/06/2018\"\n",
    "date_time_object=datetime.strptime(datestring,\"%d/%m/%Y\")\n",
    "\n",
    "print(date_time_object)\n",
    "#in output by default time is 00:00:00\n"
   ]
  },
  {
   "cell_type": "code",
   "execution_count": 14,
   "metadata": {},
   "outputs": [
    {
     "name": "stdout",
     "output_type": "stream",
     "text": [
      "2018-06-25 11:00:00\n"
     ]
    }
   ],
   "source": [
    "datestring=\"25/06/2018 11:00\"\n",
    "date_time_object=datetime.strptime(datestring,\"%d/%m/%Y %H:%M\")#Y-for year with century\n",
    "#d- date\n",
    "#m-month\n",
    "#M-minute\n",
    "#H-24 hours clock\n",
    "#I-12 hours clock\n",
    "\n",
    "print(date_time_object)"
   ]
  },
  {
   "cell_type": "code",
   "execution_count": 15,
   "metadata": {},
   "outputs": [],
   "source": [
    "#how to do operations with timedelta"
   ]
  },
  {
   "cell_type": "code",
   "execution_count": 16,
   "metadata": {},
   "outputs": [],
   "source": [
    "from datetime import timedelta"
   ]
  },
  {
   "cell_type": "code",
   "execution_count": 17,
   "metadata": {},
   "outputs": [
    {
     "name": "stdout",
     "output_type": "stream",
     "text": [
      "2018-07-09 11:00:00\n"
     ]
    }
   ],
   "source": [
    "date_time_object+=timedelta(weeks=2)\n",
    "print(date_time_object)"
   ]
  },
  {
   "cell_type": "code",
   "execution_count": 23,
   "metadata": {},
   "outputs": [
    {
     "name": "stdout",
     "output_type": "stream",
     "text": [
      "2018-06-25 00:00:00\n",
      "2018-07-11 00:00:00\n"
     ]
    }
   ],
   "source": [
    "indian_date=\"25/06/2018\"\n",
    "training_start_date=datetime.strptime(indian_date,\"%d/%m/%Y\")\n",
    "print(training_start_date)\n",
    "\n",
    "training_end_date=training_start_date+timedelta(days=2,weeks=2)\n",
    "print(training_end_date)"
   ]
  },
  {
   "cell_type": "code",
   "execution_count": 25,
   "metadata": {},
   "outputs": [
    {
     "name": "stdout",
     "output_type": "stream",
     "text": [
      "16\n",
      "1382400.0\n"
     ]
    }
   ],
   "source": [
    "diff=training_end_date-training_start_date\n",
    "print(diff.days)\n",
    "print(diff.total_seconds())"
   ]
  },
  {
   "cell_type": "code",
   "execution_count": 26,
   "metadata": {},
   "outputs": [],
   "source": [
    "#strftime is used to convert datetime object to string"
   ]
  },
  {
   "cell_type": "code",
   "execution_count": 27,
   "metadata": {},
   "outputs": [
    {
     "name": "stdout",
     "output_type": "stream",
     "text": [
      "07/09/18\n"
     ]
    }
   ],
   "source": [
    "us_date=date_time_object.strftime(\"%m/%d/%y\")\n",
    "print(us_date)"
   ]
  },
  {
   "cell_type": "code",
   "execution_count": null,
   "metadata": {},
   "outputs": [],
   "source": []
  }
 ],
 "metadata": {
  "kernelspec": {
   "display_name": "Python 3",
   "language": "python",
   "name": "python3"
  },
  "language_info": {
   "codemirror_mode": {
    "name": "ipython",
    "version": 3
   },
   "file_extension": ".py",
   "mimetype": "text/x-python",
   "name": "python",
   "nbconvert_exporter": "python",
   "pygments_lexer": "ipython3",
   "version": "3.6.5"
  }
 },
 "nbformat": 4,
 "nbformat_minor": 2
}
