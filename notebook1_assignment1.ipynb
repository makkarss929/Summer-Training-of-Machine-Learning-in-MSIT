{
 "cells": [
  {
   "cell_type": "markdown",
   "metadata": {},
   "source": [
    "# assignment \n",
    "## (includes lists,dictionaries and some basic functions )"
   ]
  },
  {
   "cell_type": "markdown",
   "metadata": {},
   "source": [
    "# Q1."
   ]
  },
  {
   "cell_type": "code",
   "execution_count": 1,
   "metadata": {},
   "outputs": [
    {
     "name": "stdout",
     "output_type": "stream",
     "text": [
      "spam\n"
     ]
    }
   ],
   "source": [
    "a=\"spam\"\n",
    "\n",
    "b=a\n",
    "\n",
    "b=\"shrubbery\"\n",
    "print(a)\n",
    "# deep dive concept is used in this question"
   ]
  },
  {
   "cell_type": "markdown",
   "metadata": {},
   "source": [
    "# Q2."
   ]
  },
  {
   "cell_type": "code",
   "execution_count": 3,
   "metadata": {},
   "outputs": [
    {
     "name": "stdout",
     "output_type": "stream",
     "text": [
      "['shrubbery']\n"
     ]
    }
   ],
   "source": [
    "a=[\"spam\"]\n",
    "\n",
    "b=a# id of a is assigned to b\n",
    "\n",
    "b[0]=\"shrubbery\"# by this line a[0] is replaced by \"shrubbery\"\n",
    "print(a)"
   ]
  },
  {
   "cell_type": "markdown",
   "metadata": {},
   "source": [
    "# Q3."
   ]
  },
  {
   "cell_type": "code",
   "execution_count": 6,
   "metadata": {},
   "outputs": [
    {
     "name": "stdout",
     "output_type": "stream",
     "text": [
      "['spam']\n"
     ]
    }
   ],
   "source": [
    "a=['spam']\n",
    "b=a[:]# here b points to 'spam'\n",
    "b[0]='shrubbery'\n",
    "print(a)"
   ]
  },
  {
   "cell_type": "markdown",
   "metadata": {},
   "source": [
    "# Q4."
   ]
  },
  {
   "cell_type": "code",
   "execution_count": 8,
   "metadata": {},
   "outputs": [
    {
     "name": "stdout",
     "output_type": "stream",
     "text": [
      "what is your nametarun\n",
      "hello tarun\n"
     ]
    }
   ],
   "source": [
    "name=input(\"what is your name\")\n",
    "print('hello',name)"
   ]
  },
  {
   "cell_type": "markdown",
   "metadata": {},
   "source": [
    "# Q5."
   ]
  },
  {
   "cell_type": "code",
   "execution_count": 9,
   "metadata": {},
   "outputs": [
    {
     "name": "stdout",
     "output_type": "stream",
     "text": [
      "enter the width of the room45\n",
      "enter the length of the room67\n",
      "area of room is 3015.000000\n"
     ]
    }
   ],
   "source": [
    "width=float(input(\"enter the width of the room\"))\n",
    "length=float(input('enter the length of the room'))\n",
    "\n",
    "area=width*length\n",
    "\n",
    "print('area of room is %f'%area)\n",
    "\n"
   ]
  },
  {
   "cell_type": "markdown",
   "metadata": {},
   "source": [
    "# Q6."
   ]
  },
  {
   "cell_type": "code",
   "execution_count": 11,
   "metadata": {},
   "outputs": [
    {
     "name": "stdout",
     "output_type": "stream",
     "text": [
      "enter a number4\n",
      "sum is 10\n"
     ]
    }
   ],
   "source": [
    "n=int(input('enter a number'))\n",
    "\n",
    "sum=int(n*(n+1)/2)\n",
    "\n",
    "print('sum is',sum)"
   ]
  },
  {
   "cell_type": "markdown",
   "metadata": {},
   "source": [
    "# Q7."
   ]
  },
  {
   "cell_type": "code",
   "execution_count": 13,
   "metadata": {},
   "outputs": [
    {
     "name": "stdout",
     "output_type": "stream",
     "text": [
      "enter value in a 5\n",
      "enter value in b 2\n",
      "7\n",
      "-3\n",
      "2\n",
      "1\n",
      "10\n",
      "25\n"
     ]
    }
   ],
   "source": [
    "a=int(input('enter value in a '))\n",
    "b=int(input('enter value in b '))\n",
    "\n",
    "#a.\n",
    "print(a+b)\n",
    "#b.\n",
    "print(b-a)\n",
    "#c.\n",
    "print(a//b)\n",
    "#d.\n",
    "print(a%b)\n",
    "#e.\n",
    "print(a*b)\n",
    "#f.\n",
    "print(a**b)"
   ]
  },
  {
   "cell_type": "markdown",
   "metadata": {},
   "source": [
    "# Q8."
   ]
  },
  {
   "cell_type": "code",
   "execution_count": 14,
   "metadata": {},
   "outputs": [
    {
     "name": "stdout",
     "output_type": "stream",
     "text": [
      "enter the value of height in feet5.7\n",
      "height in centimeter 173.73600000000002\n"
     ]
    }
   ],
   "source": [
    "n=float(input(\"enter the value of height in feet\"))\n",
    "\n",
    "print('height in centimeter',n*12*2.54)"
   ]
  },
  {
   "cell_type": "markdown",
   "metadata": {},
   "source": [
    "# Q9."
   ]
  },
  {
   "cell_type": "code",
   "execution_count": 17,
   "metadata": {},
   "outputs": [
    {
     "name": "stdout",
     "output_type": "stream",
     "text": [
      "enter first number5\n",
      "enter second number6\n",
      "enter third number7\n",
      "6\n"
     ]
    }
   ],
   "source": [
    "x=int(input('enter first number'))\n",
    "y=int(input('enter second number'))\n",
    "z=int(input('enter third number'))\n",
    "\n",
    "a=min(x,y,z)\n",
    "b=max(x,y,z)\n",
    "\n",
    "c=x+y+z-a-b\n",
    "print(c)"
   ]
  },
  {
   "cell_type": "markdown",
   "metadata": {},
   "source": [
    "# Q10."
   ]
  },
  {
   "cell_type": "code",
   "execution_count": 25,
   "metadata": {},
   "outputs": [
    {
     "name": "stdout",
     "output_type": "stream",
     "text": [
      "enter name of monthmay\n",
      "enter year2008\n",
      "leap year 2008\n",
      "month : may \n",
      "days in month: 31\n"
     ]
    }
   ],
   "source": [
    "month=input(\"enter name of month\")\n",
    "yr=int(input(\"enter year\"))\n",
    "\n",
    "my_dict1={'january':31,'febuary':28,'march':31,'april':30,'may':31,'june':30,'july':31,'august':31,'september':30,'october':31,'november':30,'december':31}\n",
    "my_dict2={'january':31,'febuary':29,'march':31,'april':30,'may':31,'june':30,'july':31,'august':31,'september':30,'october':31,'november':30,'december':31}\n",
    "if( yr%4==0 and yr%100!=0 )or(yr%400==0):\n",
    "    print(\"leap year\",yr)\n",
    "    print(\"month :\",month,\"\\ndays in month:\",my_dict2[month])\n",
    "else:\n",
    "    print(\"not leap year\",yr)\n",
    "    print(\"month :\",month,\"\\ndays in month:\",my_dict1[month])\n"
   ]
  },
  {
   "cell_type": "markdown",
   "metadata": {},
   "source": [
    "# Q11."
   ]
  },
  {
   "cell_type": "code",
   "execution_count": 1,
   "metadata": {},
   "outputs": [
    {
     "name": "stdout",
     "output_type": "stream",
     "text": [
      "enter a number5\n",
      "enter a number6\n",
      "enter a number0\n",
      "average is  5.5\n"
     ]
    }
   ],
   "source": [
    "num=int(input('enter a number'))\n",
    "x=1\n",
    "sum=0\n",
    "while num!=0 and x>=1:\n",
    "    sum=sum+num\n",
    "    av=sum/x\n",
    "    x=x+1\n",
    "    num=int(input('enter a number'))\n",
    "if num==0 and x==1:\n",
    "    print('error try again')\n",
    "else:\n",
    "    print('average is ',av)"
   ]
  },
  {
   "cell_type": "markdown",
   "metadata": {},
   "source": [
    "# Q13."
   ]
  },
  {
   "cell_type": "code",
   "execution_count": 2,
   "metadata": {},
   "outputs": [
    {
     "name": "stdout",
     "output_type": "stream",
     "text": [
      "enter the first length3\n",
      "enter the second length4\n",
      "hypotenuse is 5.0\n"
     ]
    }
   ],
   "source": [
    "def hypotenuse(length_1,length_2):\n",
    "    length=((length_1)**2+(length_2)**2)**.5\n",
    "\n",
    "    return length\n",
    "\n",
    "length_1=int(input('enter the first length'))\n",
    "length_2=int(input('enter the second length'))\n",
    "\n",
    "length=hypotenuse(length_1,length_2)\n",
    "\n",
    "print('hypotenuse is',length)"
   ]
  },
  {
   "cell_type": "markdown",
   "metadata": {},
   "source": [
    "# Q14."
   ]
  },
  {
   "cell_type": "code",
   "execution_count": 4,
   "metadata": {},
   "outputs": [
    {
     "name": "stdout",
     "output_type": "stream",
     "text": [
      "enter first number65\n",
      "enter second number53\n",
      "enter third number23\n",
      "median is 53\n"
     ]
    }
   ],
   "source": [
    "def median(num1,num2,num3):\n",
    "    \n",
    "    mini=min(num1,num2,num3)\n",
    "    maxa=max(num1,num2,num3)\n",
    "    \n",
    "    med=num1+num2+num3-mini-maxa\n",
    "    \n",
    "    return med\n",
    "num1=int(input('enter first number'))\n",
    "num2=int(input('enter second number'))\n",
    "num3=int(input('enter third number'))\n",
    "\n",
    "med=median(num1,num2,num3)\n",
    "print('median is',med)"
   ]
  },
  {
   "cell_type": "markdown",
   "metadata": {},
   "source": [
    "# Q15."
   ]
  },
  {
   "cell_type": "code",
   "execution_count": 8,
   "metadata": {},
   "outputs": [
    {
     "name": "stdout",
     "output_type": "stream",
     "text": [
      "enter a sentence i am tarun makkar.i am doing machine learning\n",
      "I am tarun makkar I  am doing machine learning\n"
     ]
    }
   ],
   "source": [
    "string=input('enter a sentence ')\n",
    "my_string=string.capitalize()\n",
    "i=0\n",
    "for e in my_string:\n",
    "    if e=='.':\n",
    "        i=i+1\n",
    "        st=my_string[i].upper()\n",
    "        print(my_string[:i-1],st,my_string[i+1:])\n",
    "    elif e==i:\n",
    "        st=my_string[i].upper()\n",
    "    else:\n",
    "        i=i+1\n",
    "        "
   ]
  },
  {
   "cell_type": "markdown",
   "metadata": {},
   "source": [
    "# Q16.\n",
    "##### random.randrange(a, b) picks random int from a upto b\n",
    "\n",
    "random.randint(a, b) picks random int from a to b\n",
    "\n",
    "random.choice(string) picks random sequences"
   ]
  },
  {
   "cell_type": "code",
   "execution_count": 37,
   "metadata": {},
   "outputs": [
    {
     "ename": "TypeError",
     "evalue": "randint() missing 1 required positional argument: 'b'",
     "output_type": "error",
     "traceback": [
      "\u001b[1;31m---------------------------------------------------------------------------\u001b[0m",
      "\u001b[1;31mTypeError\u001b[0m                                 Traceback (most recent call last)",
      "\u001b[1;32m<ipython-input-37-7a5e90c4bc19>\u001b[0m in \u001b[0;36m<module>\u001b[1;34m()\u001b[0m\n\u001b[0;32m     11\u001b[0m \u001b[1;32melse\u001b[0m\u001b[1;33m:\u001b[0m\u001b[1;33m\u001b[0m\u001b[0m\n\u001b[0;32m     12\u001b[0m     \u001b[1;32mfor\u001b[0m \u001b[0me\u001b[0m \u001b[1;32min\u001b[0m \u001b[0mrange\u001b[0m\u001b[1;33m(\u001b[0m\u001b[1;36m0\u001b[0m\u001b[1;33m,\u001b[0m\u001b[1;36m4\u001b[0m\u001b[1;33m)\u001b[0m\u001b[1;33m:\u001b[0m\u001b[1;33m\u001b[0m\u001b[0m\n\u001b[1;32m---> 13\u001b[1;33m         \u001b[0mnum\u001b[0m\u001b[1;33m.\u001b[0m\u001b[0mappend\u001b[0m\u001b[1;33m(\u001b[0m\u001b[0mrandom\u001b[0m\u001b[1;33m.\u001b[0m\u001b[0mrandint\u001b[0m\u001b[1;33m(\u001b[0m\u001b[0mrange\u001b[0m\u001b[1;33m(\u001b[0m\u001b[1;36m0\u001b[0m\u001b[1;33m,\u001b[0m\u001b[1;36m9\u001b[0m\u001b[1;33m)\u001b[0m\u001b[1;33m)\u001b[0m\u001b[1;33m)\u001b[0m\u001b[1;33m\u001b[0m\u001b[0m\n\u001b[0m\u001b[0;32m     14\u001b[0m     \u001b[1;32mfor\u001b[0m \u001b[0me\u001b[0m \u001b[1;32min\u001b[0m \u001b[0mrange\u001b[0m\u001b[1;33m(\u001b[0m\u001b[1;36m0\u001b[0m\u001b[1;33m,\u001b[0m\u001b[1;36m3\u001b[0m\u001b[1;33m)\u001b[0m\u001b[1;33m:\u001b[0m\u001b[1;33m\u001b[0m\u001b[0m\n\u001b[0;32m     15\u001b[0m         \u001b[0mletter\u001b[0m\u001b[1;33m.\u001b[0m\u001b[0mappend\u001b[0m\u001b[1;33m(\u001b[0m\u001b[0mrandom\u001b[0m\u001b[1;33m.\u001b[0m\u001b[0mchoice\u001b[0m\u001b[1;33m(\u001b[0m\u001b[1;34m'ABCDEFGHIJKLMNOPQRSTUVWXYZ'\u001b[0m\u001b[1;33m)\u001b[0m\u001b[1;33m)\u001b[0m\u001b[1;33m\u001b[0m\u001b[0m\n",
      "\u001b[1;31mTypeError\u001b[0m: randint() missing 1 required positional argument: 'b'"
     ]
    }
   ],
   "source": [
    "import random\n",
    "chance=random.randint(0,2)\n",
    "num=[]\n",
    "letter=[]\n",
    "\n",
    "if chance==0:\n",
    "    for e in range(0,3):\n",
    "        num.append(random.randint(range(0,9)))\n",
    "    for e in range(0,4):\n",
    "        letter.append(random.choice(\"ABCDEFGHIJKLMNOPQRSTUVWXYZ\"))\n",
    "else:\n",
    "    for e in range(0,4):\n",
    "        num.append(random.randint(range(0,9)))\n",
    "    for e in range(0,3):\n",
    "        letter.append(random.choice('ABCDEFGHIJKLMNOPQRSTUVWXYZ'))\n",
    "print(str(num)+letter)\n",
    "        \n",
    "\n"
   ]
  },
  {
   "cell_type": "markdown",
   "metadata": {},
   "source": [
    "# Q17."
   ]
  },
  {
   "cell_type": "code",
   "execution_count": 41,
   "metadata": {},
   "outputs": [
    {
     "name": "stdout",
     "output_type": "stream",
     "text": [
      "enter number89\n",
      "enter number89\n",
      "enter number76\n",
      "enter number7\n",
      "enter number980\n",
      "enter number0\n",
      "[980, 7, 76, 89, 89]\n"
     ]
    }
   ],
   "source": [
    "my_list=[]\n",
    "num=int(input('enter number'))\n",
    "x=1\n",
    "while num!=0 and x>=1:\n",
    "    my_list.append(num)\n",
    "    x=x+1\n",
    "    num=int(input('enter number'))\n",
    "    \n",
    "if num==0 and x==1:\n",
    "    print('error and try again')\n",
    "elif num==0 and x!=0:\n",
    "    print(my_list[x::-1])"
   ]
  },
  {
   "cell_type": "markdown",
   "metadata": {},
   "source": [
    "# Q18."
   ]
  },
  {
   "cell_type": "code",
   "execution_count": 42,
   "metadata": {},
   "outputs": [
    {
     "name": "stdout",
     "output_type": "stream",
     "text": [
      "First letter: T\n",
      "Printing q: q\n",
      "Printing x: x\n",
      "Printing brown using string slicing: brown\n",
      "Printing lazy using string slicing:  lazy\n",
      "Printing string starting from jump: jumps over the lazy dog.\n",
      "T h e   q u i c k   b r o w n   f o x   j u m p s   o v e r   t h e   l a z y   d o g . \n",
      ". g o d   y z a l   e h t   r e v o   s p m u j   x o f   n w o r b   k c i u q   e h T \n",
      "T e q i k b o n f x j m s o e   h   a y d g "
     ]
    }
   ],
   "source": [
    "s='The quick brown fox jumps over the lazy dog.'\n",
    "print ('First letter:', s[0])\n",
    "print ('Printing q:', s[4])\n",
    "print ('Printing x:', s[18])\n",
    "print ('Printing brown using string slicing:', s[10:15])\n",
    "print ('Printing lazy using string slicing:', s[-10:-5])\n",
    "print ('Printing string starting from jump:', s[20:])\n",
    "for char in s:\n",
    "    print (char, end = ' ')\n",
    "print ()\n",
    "for char in s[-1::-1]:\n",
    "    print (char, end = ' ')\n",
    "print ()\n",
    "for char in s[::2]:\n",
    "    print (char, end = ' ')"
   ]
  },
  {
   "cell_type": "markdown",
   "metadata": {},
   "source": [
    "# Q19."
   ]
  },
  {
   "cell_type": "code",
   "execution_count": 45,
   "metadata": {},
   "outputs": [
    {
     "name": "stdout",
     "output_type": "stream",
     "text": [
      "enter messagetarun makkar\n",
      "-\n",
      ".-\n",
      ".-.\n",
      "..-\n",
      "-.\n",
      "--\n",
      ".-\n",
      "-.-\n",
      "-.-\n",
      ".-\n",
      ".-.\n"
     ]
    }
   ],
   "source": [
    "morse_code = {'0': '-----', '1': '.----', '2': '..---', '3': '...--', '4': '....-', '5': '.....', '6': '-....', \n",
    "              '7': '--...', '8': '---..', '9': '----.',\n",
    "              'a': '.-', 'b': '-...', 'c': '-.-.', 'd': '-..' , 'e': '.', 'f': '..-.', 'g': '--.', 'h': '....', 'i': '..',\n",
    "              'j': '.---', 'k': '-.-', 'l': '.-..', 'm': '--', 'n': '-.', 'o': '---', 'p': '.--.', 'q': '--.-', 'r': '.-.', \n",
    "              's': '...', 't': '-', 'u': '..-', 'v': '...-', 'w': '.--', 'x': '-..-', 'y': '-.--', 'z': '--..'\n",
    "             }\n",
    "my_message=input('enter message')\n",
    "\n",
    "for e in my_message:\n",
    "    if e==' ':\n",
    "        continue\n",
    "    else:\n",
    "        print(morse_code[e])\n",
    "    "
   ]
  },
  {
   "cell_type": "markdown",
   "metadata": {},
   "source": [
    "# Q20."
   ]
  },
  {
   "cell_type": "code",
   "execution_count": 46,
   "metadata": {},
   "outputs": [
    {
     "data": {
      "text/plain": [
       "['a', 'm', 'r', 'k', 'n', 't', ' ', 'u']"
      ]
     },
     "execution_count": 46,
     "metadata": {},
     "output_type": "execute_result"
    }
   ],
   "source": [
    "''.join(set('aaabcabccd'))\n",
    "list(set('tarun makkaar'))"
   ]
  },
  {
   "cell_type": "markdown",
   "metadata": {},
   "source": [
    "# Q21. is same as queation 13"
   ]
  },
  {
   "cell_type": "markdown",
   "metadata": {},
   "source": [
    "# Q22."
   ]
  },
  {
   "cell_type": "code",
   "execution_count": 47,
   "metadata": {},
   "outputs": [
    {
     "name": "stdout",
     "output_type": "stream",
     "text": [
      "Enter string: tarun makkar\n",
      "Enter terminal width: 5\n",
      "Centred string:\n",
      "   tarun makkar\n"
     ]
    }
   ],
   "source": [
    "def centre (my_string, width):\n",
    "    centered_string = ''\n",
    "    for i in range(width//2):\n",
    "        centered_string = centered_string + ' '\n",
    "    centered_string += my_string\n",
    "    return centered_string\n",
    "my_string = input ('Enter string: ')\n",
    "width = int (input ('Enter terminal width: '))\n",
    "print ('Centred string:\\n', centre(my_string, width))"
   ]
  },
  {
   "cell_type": "markdown",
   "metadata": {},
   "source": [
    "# Q23."
   ]
  },
  {
   "cell_type": "code",
   "execution_count": null,
   "metadata": {},
   "outputs": [],
   "source": [
    "n=input('enter a number')\n",
    "i=0\n",
    "for e in range(int(len(n))):\n",
    "    if e=='+'or e==\"-\":\n",
    "        i+=1\n",
    "        continue\n",
    "\n",
    "    elif e==' ':\n",
    "        i+=1\n",
    "        continue\n",
    "    \n",
    "print(n[i:].isdigit())"
   ]
  },
  {
   "cell_type": "markdown",
   "metadata": {},
   "source": [
    "# Q24."
   ]
  },
  {
   "cell_type": "code",
   "execution_count": 64,
   "metadata": {},
   "outputs": [
    {
     "name": "stdout",
     "output_type": "stream",
     "text": [
      "enter a number7\n",
      "True\n"
     ]
    }
   ],
   "source": [
    "num=int(input('enter a number'))\n",
    "i=2\n",
    "\n",
    "while i<num:\n",
    "    if(num%i!=0):\n",
    "        i=i+1\n",
    "        \n",
    "    else:\n",
    "        break\n",
    "\n",
    "if i==num:\n",
    "    print(bool(1))\n",
    "else:\n",
    "    print(bool(2))\n",
    "    "
   ]
  },
  {
   "cell_type": "markdown",
   "metadata": {},
   "source": []
  },
  {
   "cell_type": "markdown",
   "metadata": {},
   "source": [
    "# Q25."
   ]
  },
  {
   "cell_type": "code",
   "execution_count": 11,
   "metadata": {},
   "outputs": [
    {
     "name": "stdout",
     "output_type": "stream",
     "text": [
      "enter month in integer2\n",
      "enter year2020\n",
      "leap year 2020\n",
      "month : febuary \n",
      "days in month: 29\n"
     ]
    }
   ],
   "source": [
    "def month(int_month,yr):\n",
    "    my_dict1={ 1:'31',2:'28',3:'31',4:'30',5:'31',6:'30',7:'31',8:'31',9:'30',10:'31',11:'30',12:'31'}\n",
    "    my_dict2={ 1:'31',2:'29',3:'31',4:'30',5:'31',6:'30',7:'31',8:'31',9:'30',10:'31',11:'30',12:'31'}\n",
    "    my_dict3={1:'januay',2:'febuary',3:'march',4:'april',5:'may',6:'june',7:'july',8:'august',9:'september',10:'october',11:'november',12:'december'}\n",
    "    if( yr%4==0 and yr%100!=0 )or(yr%400==0):\n",
    "        print(\"leap year\",yr)\n",
    "        print(\"month :\",my_dict3[int_month],\"\\ndays in month:\",my_dict2[int_month])\n",
    "    else:\n",
    "        print(\"not leap year\",yr)\n",
    "        print(\"month :\",my_dict3[int_month],\"\\ndays in month:\",my_dict1[int_month])\n",
    "\n",
    "int_month=int(input(\"enter month in integer\"))\n",
    "yr=int(input(\"enter year\"))\n",
    "\n",
    "month(int_month,yr)"
   ]
  },
  {
   "cell_type": "code",
   "execution_count": 1,
   "metadata": {},
   "outputs": [
    {
     "data": {
      "text/plain": [
       "'bcda'"
      ]
     },
     "execution_count": 1,
     "metadata": {},
     "output_type": "execute_result"
    }
   ],
   "source": [
    "''.join(set('aaabcabccd'))\n"
   ]
  },
  {
   "cell_type": "code",
   "execution_count": 3,
   "metadata": {},
   "outputs": [
    {
     "data": {
      "text/plain": [
       "['b', 'c', 'd', 'a']"
      ]
     },
     "execution_count": 3,
     "metadata": {},
     "output_type": "execute_result"
    }
   ],
   "source": [
    "list(set('aaabcdccd'))"
   ]
  },
  {
   "cell_type": "code",
   "execution_count": 4,
   "metadata": {},
   "outputs": [
    {
     "data": {
      "text/plain": [
       "['r', 'u', 't', ' ', 'a', 'm', 'n', 'k']"
      ]
     },
     "execution_count": 4,
     "metadata": {},
     "output_type": "execute_result"
    }
   ],
   "source": [
    "list(set('tarun makkaar'))"
   ]
  },
  {
   "cell_type": "code",
   "execution_count": 7,
   "metadata": {},
   "outputs": [
    {
     "name": "stdout",
     "output_type": "stream",
     "text": [
      "enter a stringabcaajf\n",
      "j\n",
      "b\n",
      "a\n",
      "c\n",
      "f\n",
      "unique charcters in my string 5\n"
     ]
    }
   ],
   "source": [
    "my_string=input('enter a string')\n",
    "my_list=list(set(my_string))\n",
    "count=0\n",
    "for e in my_list:\n",
    "    print(e)\n",
    "    count=count+1\n",
    "print('unique charcters in my string',count)"
   ]
  },
  {
   "cell_type": "code",
   "execution_count": null,
   "metadata": {},
   "outputs": [],
   "source": []
  }
 ],
 "metadata": {
  "kernelspec": {
   "display_name": "Python 3",
   "language": "python",
   "name": "python3"
  },
  "language_info": {
   "codemirror_mode": {
    "name": "ipython",
    "version": 3
   },
   "file_extension": ".py",
   "mimetype": "text/x-python",
   "name": "python",
   "nbconvert_exporter": "python",
   "pygments_lexer": "ipython3",
   "version": "3.6.5"
  }
 },
 "nbformat": 4,
 "nbformat_minor": 2
}
