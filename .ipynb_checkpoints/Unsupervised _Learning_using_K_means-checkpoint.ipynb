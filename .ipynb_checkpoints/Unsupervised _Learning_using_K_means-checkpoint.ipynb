{
 "cells": [
  {
   "cell_type": "markdown",
   "metadata": {},
   "source": [
    "# Assignment no.1 (grain dataset)"
   ]
  },
  {
   "cell_type": "code",
   "execution_count": 1,
   "metadata": {},
   "outputs": [],
   "source": [
    "# Load dataset\n",
    "import pandas as pd\n",
    "import numpy as np\n",
    "data = pd.read_csv(r'C:\\Users\\AMIT\\Desktop\\MSIT_ML_CLASS-master6\\MSIT_ML_CLASS-master\\datasets\\seeds.csv')"
   ]
  },
  {
   "cell_type": "code",
   "execution_count": 2,
   "metadata": {},
   "outputs": [
    {
     "data": {
      "text/html": [
       "<div>\n",
       "<style scoped>\n",
       "    .dataframe tbody tr th:only-of-type {\n",
       "        vertical-align: middle;\n",
       "    }\n",
       "\n",
       "    .dataframe tbody tr th {\n",
       "        vertical-align: top;\n",
       "    }\n",
       "\n",
       "    .dataframe thead th {\n",
       "        text-align: right;\n",
       "    }\n",
       "</style>\n",
       "<table border=\"1\" class=\"dataframe\">\n",
       "  <thead>\n",
       "    <tr style=\"text-align: right;\">\n",
       "      <th></th>\n",
       "      <th>15.26</th>\n",
       "      <th>14.84</th>\n",
       "      <th>0.871</th>\n",
       "      <th>5.763</th>\n",
       "      <th>3.312</th>\n",
       "      <th>2.221</th>\n",
       "      <th>5.22</th>\n",
       "      <th>1</th>\n",
       "    </tr>\n",
       "  </thead>\n",
       "  <tbody>\n",
       "    <tr>\n",
       "      <th>0</th>\n",
       "      <td>14.88</td>\n",
       "      <td>14.57</td>\n",
       "      <td>0.8811</td>\n",
       "      <td>5.554</td>\n",
       "      <td>3.333</td>\n",
       "      <td>1.018</td>\n",
       "      <td>4.956</td>\n",
       "      <td>1</td>\n",
       "    </tr>\n",
       "    <tr>\n",
       "      <th>1</th>\n",
       "      <td>14.29</td>\n",
       "      <td>14.09</td>\n",
       "      <td>0.9050</td>\n",
       "      <td>5.291</td>\n",
       "      <td>3.337</td>\n",
       "      <td>2.699</td>\n",
       "      <td>4.825</td>\n",
       "      <td>1</td>\n",
       "    </tr>\n",
       "    <tr>\n",
       "      <th>2</th>\n",
       "      <td>13.84</td>\n",
       "      <td>13.94</td>\n",
       "      <td>0.8955</td>\n",
       "      <td>5.324</td>\n",
       "      <td>3.379</td>\n",
       "      <td>2.259</td>\n",
       "      <td>4.805</td>\n",
       "      <td>1</td>\n",
       "    </tr>\n",
       "    <tr>\n",
       "      <th>3</th>\n",
       "      <td>16.14</td>\n",
       "      <td>14.99</td>\n",
       "      <td>0.9034</td>\n",
       "      <td>5.658</td>\n",
       "      <td>3.562</td>\n",
       "      <td>1.355</td>\n",
       "      <td>5.175</td>\n",
       "      <td>1</td>\n",
       "    </tr>\n",
       "    <tr>\n",
       "      <th>4</th>\n",
       "      <td>14.38</td>\n",
       "      <td>14.21</td>\n",
       "      <td>0.8951</td>\n",
       "      <td>5.386</td>\n",
       "      <td>3.312</td>\n",
       "      <td>2.462</td>\n",
       "      <td>4.956</td>\n",
       "      <td>1</td>\n",
       "    </tr>\n",
       "    <tr>\n",
       "      <th>5</th>\n",
       "      <td>14.69</td>\n",
       "      <td>14.49</td>\n",
       "      <td>0.8799</td>\n",
       "      <td>5.563</td>\n",
       "      <td>3.259</td>\n",
       "      <td>3.586</td>\n",
       "      <td>5.219</td>\n",
       "      <td>1</td>\n",
       "    </tr>\n",
       "    <tr>\n",
       "      <th>6</th>\n",
       "      <td>14.11</td>\n",
       "      <td>14.10</td>\n",
       "      <td>0.8911</td>\n",
       "      <td>5.420</td>\n",
       "      <td>3.302</td>\n",
       "      <td>2.700</td>\n",
       "      <td>5.000</td>\n",
       "      <td>1</td>\n",
       "    </tr>\n",
       "    <tr>\n",
       "      <th>7</th>\n",
       "      <td>16.63</td>\n",
       "      <td>15.46</td>\n",
       "      <td>0.8747</td>\n",
       "      <td>6.053</td>\n",
       "      <td>3.465</td>\n",
       "      <td>2.040</td>\n",
       "      <td>5.877</td>\n",
       "      <td>1</td>\n",
       "    </tr>\n",
       "    <tr>\n",
       "      <th>8</th>\n",
       "      <td>16.44</td>\n",
       "      <td>15.25</td>\n",
       "      <td>0.8880</td>\n",
       "      <td>5.884</td>\n",
       "      <td>3.505</td>\n",
       "      <td>1.969</td>\n",
       "      <td>5.533</td>\n",
       "      <td>1</td>\n",
       "    </tr>\n",
       "    <tr>\n",
       "      <th>9</th>\n",
       "      <td>15.26</td>\n",
       "      <td>14.85</td>\n",
       "      <td>0.8696</td>\n",
       "      <td>5.714</td>\n",
       "      <td>3.242</td>\n",
       "      <td>4.543</td>\n",
       "      <td>5.314</td>\n",
       "      <td>1</td>\n",
       "    </tr>\n",
       "  </tbody>\n",
       "</table>\n",
       "</div>"
      ],
      "text/plain": [
       "   15.26  14.84   0.871  5.763  3.312  2.221   5.22  1\n",
       "0  14.88  14.57  0.8811  5.554  3.333  1.018  4.956  1\n",
       "1  14.29  14.09  0.9050  5.291  3.337  2.699  4.825  1\n",
       "2  13.84  13.94  0.8955  5.324  3.379  2.259  4.805  1\n",
       "3  16.14  14.99  0.9034  5.658  3.562  1.355  5.175  1\n",
       "4  14.38  14.21  0.8951  5.386  3.312  2.462  4.956  1\n",
       "5  14.69  14.49  0.8799  5.563  3.259  3.586  5.219  1\n",
       "6  14.11  14.10  0.8911  5.420  3.302  2.700  5.000  1\n",
       "7  16.63  15.46  0.8747  6.053  3.465  2.040  5.877  1\n",
       "8  16.44  15.25  0.8880  5.884  3.505  1.969  5.533  1\n",
       "9  15.26  14.85  0.8696  5.714  3.242  4.543  5.314  1"
      ]
     },
     "execution_count": 2,
     "metadata": {},
     "output_type": "execute_result"
    }
   ],
   "source": [
    "data.head(10)"
   ]
  },
  {
   "cell_type": "code",
   "execution_count": 3,
   "metadata": {},
   "outputs": [
    {
     "data": {
      "text/plain": [
       "Index(['15.26', '14.84', '0.871', '5.763', '3.312', '2.221', '5.22', '1'], dtype='object')"
      ]
     },
     "execution_count": 3,
     "metadata": {},
     "output_type": "execute_result"
    }
   ],
   "source": [
    "data.keys()"
   ]
  },
  {
   "cell_type": "code",
   "execution_count": 4,
   "metadata": {},
   "outputs": [],
   "source": [
    "X = data['15.26']\n",
    "y= data['14.84']\n"
   ]
  },
  {
   "cell_type": "code",
   "execution_count": 5,
   "metadata": {},
   "outputs": [
    {
     "data": {
      "text/plain": [
       "(209,)"
      ]
     },
     "execution_count": 5,
     "metadata": {},
     "output_type": "execute_result"
    }
   ],
   "source": [
    "X.shape"
   ]
  },
  {
   "cell_type": "code",
   "execution_count": 6,
   "metadata": {},
   "outputs": [
    {
     "data": {
      "image/png": "[encoded data removed]",
      "text/plain": [
       "<Figure size 432x288 with 1 Axes>"
      ]
     },
     "metadata": {},
     "output_type": "display_data"
    }
   ],
   "source": [
    "import matplotlib.pyplot as plt\n",
    "% matplotlib inline \n",
    "\n",
    "plt.scatter(X,y)\n",
    "plt.show()"
   ]
  },
  {
   "cell_type": "code",
   "execution_count": 7,
   "metadata": {},
   "outputs": [
    {
     "name": "stdout",
     "output_type": "stream",
     "text": [
      "[0 0 0 0 0 0 0 0 0 0 0 0 0 0 0 0 0 0 1 0 0 0 1 0 0 1 1 0 1 1 0 0 0 0 0 0 0\n",
      " 0 0 1 1 1 0 0 0 0 0 0 0 0 0 0 0 0 0 0 0 0 1 1 1 1 1 1 1 0 0 0 1 2 0 2 2 0\n",
      " 0 2 2 2 2 0 2 2 2 2 2 2 2 2 2 2 2 2 2 2 0 2 2 2 2 0 2 2 2 2 2 2 2 2 2 2 2\n",
      " 2 2 2 2 2 2 2 2 2 2 0 2 0 2 2 2 2 2 2 2 0 0 0 0 2 0 0 0 1 1 1 1 1 1 1 1 1\n",
      " 1 1 1 1 1 1 1 1 1 1 1 1 1 1 1 1 1 1 1 1 1 1 1 1 1 1 1 1 1 1 1 1 1 1 1 1 1\n",
      " 1 1 1 1 1 1 1 1 1 1 1 1 1 1 1 1 1 1 1 1 1 1 1 1]\n"
     ]
    },
    {
     "data": {
      "text/plain": [
       "<matplotlib.collections.PathCollection at 0xa3369f0>"
      ]
     },
     "execution_count": 7,
     "metadata": {},
     "output_type": "execute_result"
    },
    {
     "data": {
      "image/png": "[encoded data removed]",
      "text/plain": [
       "<Figure size 432x288 with 1 Axes>"
      ]
     },
     "metadata": {},
     "output_type": "display_data"
    }
   ],
   "source": [
    "from sklearn.cluster import KMeans\n",
    "col_list=['15.26','14.84']\n",
    "\n",
    "points = data[col_list]\n",
    "# Create a KMeans instance with 3 clusters : model\n",
    "\n",
    "model = KMeans(n_clusters=3)\n",
    "\n",
    "model.fit(points)\n",
    "\n",
    "labels= model.predict(points)\n",
    "\n",
    "# Print cluster labels of new points\n",
    "\n",
    "print(labels)\n",
    "\n",
    "plt.scatter(points['15.26'],points['14.84'], c = labels)"
   ]
  },
  {
   "cell_type": "code",
   "execution_count": 8,
   "metadata": {},
   "outputs": [
    {
     "name": "stdout",
     "output_type": "stream",
     "text": [
      "[0 0 0 0 0 0 0 0 0 0 0 0 0 0 0 0 0 0 2 0 0 0 2 0 0 2 2 0 2 2 0 0 0 0 0 0 0\n",
      " 0 0 2 2 2 0 0 0 0 0 0 0 0 0 0 0 0 0 0 0 0 2 2 2 2 2 2 2 0 0 0 2 1 0 1 1 0\n",
      " 0 1 1 1 1 0 1 1 1 1 1 1 1 1 1 1 1 1 1 1 0 1 1 1 1 0 1 1 1 1 1 1 1 1 1 1 1\n",
      " 1 1 1 1 1 1 1 1 1 1 0 1 0 1 1 1 1 1 1 1 0 0 0 0 1 0 0 0 2 2 2 2 2 2 2 2 2\n",
      " 2 2 2 2 2 2 2 2 2 2 2 2 2 2 2 2 2 2 2 2 2 2 2 2 2 2 2 2 2 2 2 2 2 2 2 2 2\n",
      " 2 2 2 2 2 2 2 2 2 2 2 2 2 2 2 2 2 2 2 2 2 2 2 2]\n"
     ]
    },
    {
     "data": {
      "text/plain": [
       "<matplotlib.collections.PathCollection at 0xa376730>"
      ]
     },
     "execution_count": 8,
     "metadata": {},
     "output_type": "execute_result"
    },
    {
     "data": {
      "image/png": "[encoded data removed]",
      "text/plain": [
       "<Figure size 432x288 with 1 Axes>"
      ]
     },
     "metadata": {},
     "output_type": "display_data"
    }
   ],
   "source": [
    "from sklearn.cluster import KMeans\n",
    "\n",
    "col_list=['15.26', '14.84', '0.871', '5.763']\n",
    "\n",
    "points = data[col_list]\n",
    "\n",
    "model=KMeans(n_clusters=3)\n",
    "\n",
    "model.fit(points)\n",
    "\n",
    "labels= model.predict(points)\n",
    "\n",
    "print(labels)\n",
    "\n",
    "plt.scatter(points['15.26'],points['14.84'],c=labels)"
   ]
  },
  {
   "cell_type": "markdown",
   "metadata": {},
   "source": [
    "\n",
    "# How to evaluate clustering when we don't know about the data"
   ]
  },
  {
   "cell_type": "code",
   "execution_count": 9,
   "metadata": {},
   "outputs": [
    {
     "name": "stdout",
     "output_type": "stream",
     "text": [
      "1 2166.79890051\n",
      "2 514.701670136\n",
      "3 203.154473772\n",
      "4 126.489993285\n",
      "5 89.8996321965\n",
      "6 63.0146436769\n",
      "7 45.7882710515\n",
      "8 36.1060731558\n",
      "9 30.375638167\n"
     ]
    }
   ],
   "source": [
    "n_cluster= np.arange(1,10)\n",
    "\n",
    "inertias = []\n",
    "\n",
    "for cluster in n_cluster:\n",
    "    model=KMeans(n_clusters = cluster)\n",
    "    model.fit(points)\n",
    "    inertias.append(model.inertia_)\n",
    "    \n",
    "for num,inertia in zip(n_cluster,inertias):\n",
    "    print(num,inertia)"
   ]
  },
  {
   "cell_type": "code",
   "execution_count": 10,
   "metadata": {},
   "outputs": [
    {
     "data": {
      "text/plain": [
       "Text(0.5,1,'inertia plot for grain dataset')"
      ]
     },
     "execution_count": 10,
     "metadata": {},
     "output_type": "execute_result"
    },
    {
     "data": {
      "image/png": "[encoded data removed]",
      "text/plain": [
       "<Figure size 432x288 with 1 Axes>"
      ]
     },
     "metadata": {},
     "output_type": "display_data"
    }
   ],
   "source": [
    "plt.plot(n_cluster,inertias,'-o')\n",
    "\n",
    "plt.xlabel('number of clusters')\n",
    "plt.ylabel('inertia')\n",
    "plt.title('inertia plot for grain dataset')"
   ]
  },
  {
   "cell_type": "markdown",
   "metadata": {},
   "source": [
    "# Cross table"
   ]
  },
  {
   "cell_type": "code",
   "execution_count": 11,
   "metadata": {},
   "outputs": [
    {
     "data": {
      "text/html": [
       "<div>\n",
       "<style scoped>\n",
       "    .dataframe tbody tr th:only-of-type {\n",
       "        vertical-align: middle;\n",
       "    }\n",
       "\n",
       "    .dataframe tbody tr th {\n",
       "        vertical-align: top;\n",
       "    }\n",
       "\n",
       "    .dataframe thead th {\n",
       "        text-align: right;\n",
       "    }\n",
       "</style>\n",
       "<table border=\"1\" class=\"dataframe\">\n",
       "  <thead>\n",
       "    <tr style=\"text-align: right;\">\n",
       "      <th></th>\n",
       "      <th>labels</th>\n",
       "      <th>names</th>\n",
       "    </tr>\n",
       "  </thead>\n",
       "  <tbody>\n",
       "    <tr>\n",
       "      <th>0</th>\n",
       "      <td>0</td>\n",
       "      <td>1</td>\n",
       "    </tr>\n",
       "    <tr>\n",
       "      <th>1</th>\n",
       "      <td>0</td>\n",
       "      <td>1</td>\n",
       "    </tr>\n",
       "    <tr>\n",
       "      <th>2</th>\n",
       "      <td>0</td>\n",
       "      <td>1</td>\n",
       "    </tr>\n",
       "    <tr>\n",
       "      <th>3</th>\n",
       "      <td>0</td>\n",
       "      <td>1</td>\n",
       "    </tr>\n",
       "    <tr>\n",
       "      <th>4</th>\n",
       "      <td>0</td>\n",
       "      <td>1</td>\n",
       "    </tr>\n",
       "  </tbody>\n",
       "</table>\n",
       "</div>"
      ],
      "text/plain": [
       "   labels  names\n",
       "0       0      1\n",
       "1       0      1\n",
       "2       0      1\n",
       "3       0      1\n",
       "4       0      1"
      ]
     },
     "execution_count": 11,
     "metadata": {},
     "output_type": "execute_result"
    }
   ],
   "source": [
    "names = data['1'].tolist()\n",
    "\n",
    "df= pd.DataFrame({'labels':labels,'names':names})\n",
    "df.head()\n"
   ]
  },
  {
   "cell_type": "code",
   "execution_count": 12,
   "metadata": {},
   "outputs": [
    {
     "name": "stdout",
     "output_type": "stream",
     "text": [
      "names    1   2   3\n",
      "labels            \n",
      "0       52  15   0\n",
      "1        0  55   0\n",
      "2       17   0  70\n"
     ]
    }
   ],
   "source": [
    "from pprint import pprint\n",
    "pprint(pd.crosstab(df['labels'],df['names']))\n",
    "\n"
   ]
  },
  {
   "cell_type": "code",
   "execution_count": 13,
   "metadata": {},
   "outputs": [
    {
     "data": {
      "text/plain": [
       "15.26    8.506233\n",
       "14.84    1.713347\n",
       "0.871    0.000561\n",
       "5.763    0.197162\n",
       "3.312    0.143340\n",
       "2.221    2.260983\n",
       "5.22     0.242544\n",
       "1        0.668246\n",
       "dtype: float64"
      ]
     },
     "execution_count": 13,
     "metadata": {},
     "output_type": "execute_result"
    }
   ],
   "source": [
    "data.var()"
   ]
  },
  {
   "cell_type": "code",
   "execution_count": 14,
   "metadata": {},
   "outputs": [],
   "source": [
    "from sklearn.preprocessing import StandardScaler\n",
    "\n",
    "scale = StandardScaler()\n",
    "\n",
    "data_scaled = scale.fit_transform(data[['15.26', '14.84', '0.871', '5.763', '3.312', '2.221', '5.22', '1']])\n",
    "\n"
   ]
  },
  {
   "cell_type": "code",
   "execution_count": 15,
   "metadata": {},
   "outputs": [
    {
     "name": "stdout",
     "output_type": "stream",
     "text": [
      "names    1   2   3\n",
      "labels            \n",
      "0        2  68   0\n",
      "1        0   0  70\n",
      "2       67   2   0\n"
     ]
    }
   ],
   "source": [
    "# Create Kmeans\n",
    "model2=KMeans(n_clusters=3)\n",
    "model2.fit(data_scaled)\n",
    "labels2=model2.predict(data_scaled)\n",
    "\n",
    "names2=data['1']\n",
    "\n",
    "df2 = pd.DataFrame({'labels':labels2,'names':names2})\n",
    "\n",
    "pprint(pd.crosstab(df2['labels'],df2['names']))"
   ]
  },
  {
   "cell_type": "code",
   "execution_count": 16,
   "metadata": {},
   "outputs": [
    {
     "ename": "TypeError",
     "evalue": "scatter() missing 2 required positional arguments: 'x' and 'y'",
     "output_type": "error",
     "traceback": [
      "\u001b[1;31m---------------------------------------------------------------------------\u001b[0m",
      "\u001b[1;31mTypeError\u001b[0m                                 Traceback (most recent call last)",
      "\u001b[1;32m<ipython-input-16-1516a20b26b1>\u001b[0m in \u001b[0;36m<module>\u001b[1;34m()\u001b[0m\n\u001b[1;32m----> 1\u001b[1;33m \u001b[0mplt\u001b[0m\u001b[1;33m.\u001b[0m\u001b[0mscatter\u001b[0m\u001b[1;33m(\u001b[0m\u001b[1;33m)\u001b[0m\u001b[1;33m\u001b[0m\u001b[0m\n\u001b[0m",
      "\u001b[1;31mTypeError\u001b[0m: scatter() missing 2 required positional arguments: 'x' and 'y'"
     ]
    }
   ],
   "source": [
    "plt.scatter()"
   ]
  },
  {
   "cell_type": "markdown",
   "metadata": {},
   "source": [
    "# Assignment no.2(Stocks market dataset)"
   ]
  },
  {
   "cell_type": "code",
   "execution_count": 17,
   "metadata": {},
   "outputs": [],
   "source": [
    "data = pd.read_csv(r'C:\\Users\\AMIT\\Desktop\\MSIT_ML_CLASS-master6\\MSIT_ML_CLASS-master\\datasets\\company-stock-movements-2010-2015-incl.csv.txt')"
   ]
  },
  {
   "cell_type": "code",
   "execution_count": 18,
   "metadata": {},
   "outputs": [
    {
     "data": {
      "text/html": [
       "<div>\n",
       "<style scoped>\n",
       "    .dataframe tbody tr th:only-of-type {\n",
       "        vertical-align: middle;\n",
       "    }\n",
       "\n",
       "    .dataframe tbody tr th {\n",
       "        vertical-align: top;\n",
       "    }\n",
       "\n",
       "    .dataframe thead th {\n",
       "        text-align: right;\n",
       "    }\n",
       "</style>\n",
       "<table border=\"1\" class=\"dataframe\">\n",
       "  <thead>\n",
       "    <tr style=\"text-align: right;\">\n",
       "      <th></th>\n",
       "      <th>Unnamed: 0</th>\n",
       "      <th>2010-01-04</th>\n",
       "      <th>2010-01-05</th>\n",
       "      <th>2010-01-06</th>\n",
       "      <th>2010-01-07</th>\n",
       "      <th>2010-01-08</th>\n",
       "      <th>2010-01-11</th>\n",
       "      <th>2010-01-12</th>\n",
       "      <th>2010-01-13</th>\n",
       "      <th>2010-01-14</th>\n",
       "      <th>...</th>\n",
       "      <th>2013-10-16</th>\n",
       "      <th>2013-10-17</th>\n",
       "      <th>2013-10-18</th>\n",
       "      <th>2013-10-21</th>\n",
       "      <th>2013-10-22</th>\n",
       "      <th>2013-10-23</th>\n",
       "      <th>2013-10-24</th>\n",
       "      <th>2013-10-25</th>\n",
       "      <th>2013-10-28</th>\n",
       "      <th>2013-10-29</th>\n",
       "    </tr>\n",
       "  </thead>\n",
       "  <tbody>\n",
       "    <tr>\n",
       "      <th>0</th>\n",
       "      <td>Apple</td>\n",
       "      <td>0.580000</td>\n",
       "      <td>-0.220005</td>\n",
       "      <td>-3.409998</td>\n",
       "      <td>-1.170000</td>\n",
       "      <td>1.680011</td>\n",
       "      <td>-2.689994</td>\n",
       "      <td>-1.469994</td>\n",
       "      <td>2.779997</td>\n",
       "      <td>-0.680003</td>\n",
       "      <td>...</td>\n",
       "      <td>0.320008</td>\n",
       "      <td>4.519997</td>\n",
       "      <td>2.899987</td>\n",
       "      <td>9.590019</td>\n",
       "      <td>-6.540016</td>\n",
       "      <td>5.959976</td>\n",
       "      <td>6.910011</td>\n",
       "      <td>-5.359962</td>\n",
       "      <td>0.840019</td>\n",
       "      <td>-19.589981</td>\n",
       "    </tr>\n",
       "    <tr>\n",
       "      <th>1</th>\n",
       "      <td>AIG</td>\n",
       "      <td>-0.640002</td>\n",
       "      <td>-0.650000</td>\n",
       "      <td>-0.210001</td>\n",
       "      <td>-0.420000</td>\n",
       "      <td>0.710001</td>\n",
       "      <td>-0.200001</td>\n",
       "      <td>-1.130001</td>\n",
       "      <td>0.069999</td>\n",
       "      <td>-0.119999</td>\n",
       "      <td>...</td>\n",
       "      <td>0.919998</td>\n",
       "      <td>0.709999</td>\n",
       "      <td>0.119999</td>\n",
       "      <td>-0.480000</td>\n",
       "      <td>0.010002</td>\n",
       "      <td>-0.279998</td>\n",
       "      <td>-0.190003</td>\n",
       "      <td>-0.040001</td>\n",
       "      <td>-0.400002</td>\n",
       "      <td>0.660000</td>\n",
       "    </tr>\n",
       "    <tr>\n",
       "      <th>2</th>\n",
       "      <td>Amazon</td>\n",
       "      <td>-2.350006</td>\n",
       "      <td>1.260009</td>\n",
       "      <td>-2.350006</td>\n",
       "      <td>-2.009995</td>\n",
       "      <td>2.960006</td>\n",
       "      <td>-2.309997</td>\n",
       "      <td>-1.640007</td>\n",
       "      <td>1.209999</td>\n",
       "      <td>-1.790001</td>\n",
       "      <td>...</td>\n",
       "      <td>2.109985</td>\n",
       "      <td>3.699982</td>\n",
       "      <td>9.570008</td>\n",
       "      <td>-3.450013</td>\n",
       "      <td>4.820008</td>\n",
       "      <td>-4.079986</td>\n",
       "      <td>2.579986</td>\n",
       "      <td>4.790009</td>\n",
       "      <td>-1.760009</td>\n",
       "      <td>3.740021</td>\n",
       "    </tr>\n",
       "    <tr>\n",
       "      <th>3</th>\n",
       "      <td>American express</td>\n",
       "      <td>0.109997</td>\n",
       "      <td>0.000000</td>\n",
       "      <td>0.260002</td>\n",
       "      <td>0.720002</td>\n",
       "      <td>0.190003</td>\n",
       "      <td>-0.270001</td>\n",
       "      <td>0.750000</td>\n",
       "      <td>0.300004</td>\n",
       "      <td>0.639999</td>\n",
       "      <td>...</td>\n",
       "      <td>0.680001</td>\n",
       "      <td>2.290001</td>\n",
       "      <td>0.409996</td>\n",
       "      <td>-0.069999</td>\n",
       "      <td>0.100006</td>\n",
       "      <td>0.069999</td>\n",
       "      <td>0.130005</td>\n",
       "      <td>1.849999</td>\n",
       "      <td>0.040001</td>\n",
       "      <td>0.540001</td>\n",
       "    </tr>\n",
       "    <tr>\n",
       "      <th>4</th>\n",
       "      <td>Boeing</td>\n",
       "      <td>0.459999</td>\n",
       "      <td>1.770000</td>\n",
       "      <td>1.549999</td>\n",
       "      <td>2.690003</td>\n",
       "      <td>0.059997</td>\n",
       "      <td>-1.080002</td>\n",
       "      <td>0.360000</td>\n",
       "      <td>0.549999</td>\n",
       "      <td>0.530002</td>\n",
       "      <td>...</td>\n",
       "      <td>1.559997</td>\n",
       "      <td>2.480003</td>\n",
       "      <td>0.019997</td>\n",
       "      <td>-1.220001</td>\n",
       "      <td>0.480003</td>\n",
       "      <td>3.020004</td>\n",
       "      <td>-0.029999</td>\n",
       "      <td>1.940002</td>\n",
       "      <td>1.130005</td>\n",
       "      <td>0.309998</td>\n",
       "    </tr>\n",
       "  </tbody>\n",
       "</table>\n",
       "<p>5 rows × 964 columns</p>\n",
       "</div>"
      ],
      "text/plain": [
       "         Unnamed: 0  2010-01-04  2010-01-05  2010-01-06  2010-01-07  \\\n",
       "0             Apple    0.580000   -0.220005   -3.409998   -1.170000   \n",
       "1               AIG   -0.640002   -0.650000   -0.210001   -0.420000   \n",
       "2            Amazon   -2.350006    1.260009   -2.350006   -2.009995   \n",
       "3  American express    0.109997    0.000000    0.260002    0.720002   \n",
       "4            Boeing    0.459999    1.770000    1.549999    2.690003   \n",
       "\n",
       "   2010-01-08  2010-01-11  2010-01-12  2010-01-13  2010-01-14     ...      \\\n",
       "0    1.680011   -2.689994   -1.469994    2.779997   -0.680003     ...       \n",
       "1    0.710001   -0.200001   -1.130001    0.069999   -0.119999     ...       \n",
       "2    2.960006   -2.309997   -1.640007    1.209999   -1.790001     ...       \n",
       "3    0.190003   -0.270001    0.750000    0.300004    0.639999     ...       \n",
       "4    0.059997   -1.080002    0.360000    0.549999    0.530002     ...       \n",
       "\n",
       "   2013-10-16  2013-10-17  2013-10-18  2013-10-21  2013-10-22  2013-10-23  \\\n",
       "0    0.320008    4.519997    2.899987    9.590019   -6.540016    5.959976   \n",
       "1    0.919998    0.709999    0.119999   -0.480000    0.010002   -0.279998   \n",
       "2    2.109985    3.699982    9.570008   -3.450013    4.820008   -4.079986   \n",
       "3    0.680001    2.290001    0.409996   -0.069999    0.100006    0.069999   \n",
       "4    1.559997    2.480003    0.019997   -1.220001    0.480003    3.020004   \n",
       "\n",
       "   2013-10-24  2013-10-25  2013-10-28  2013-10-29  \n",
       "0    6.910011   -5.359962    0.840019  -19.589981  \n",
       "1   -0.190003   -0.040001   -0.400002    0.660000  \n",
       "2    2.579986    4.790009   -1.760009    3.740021  \n",
       "3    0.130005    1.849999    0.040001    0.540001  \n",
       "4   -0.029999    1.940002    1.130005    0.309998  \n",
       "\n",
       "[5 rows x 964 columns]"
      ]
     },
     "execution_count": 18,
     "metadata": {},
     "output_type": "execute_result"
    }
   ],
   "source": [
    "data.head()"
   ]
  },
  {
   "cell_type": "code",
   "execution_count": 19,
   "metadata": {},
   "outputs": [
    {
     "data": {
      "text/plain": [
       "Index(['Unnamed: 0', '2010-01-04', '2010-01-05', '2010-01-06', '2010-01-07',\n",
       "       '2010-01-08', '2010-01-11', '2010-01-12', '2010-01-13', '2010-01-14',\n",
       "       ...\n",
       "       '2013-10-16', '2013-10-17', '2013-10-18', '2013-10-21', '2013-10-22',\n",
       "       '2013-10-23', '2013-10-24', '2013-10-25', '2013-10-28', '2013-10-29'],\n",
       "      dtype='object', length=964)"
      ]
     },
     "execution_count": 19,
     "metadata": {},
     "output_type": "execute_result"
    }
   ],
   "source": [
    "data.columns"
   ]
  },
  {
   "cell_type": "code",
   "execution_count": 20,
   "metadata": {},
   "outputs": [
    {
     "data": {
      "text/plain": [
       "array(['Apple', 'AIG', 'Amazon', 'American express', 'Boeing',\n",
       "       'Bank of America', 'British American Tobacco', 'Canon',\n",
       "       'Caterpillar', 'Colgate-Palmolive', 'ConocoPhillips', 'Cisco',\n",
       "       'Chevron', 'DuPont de Nemours', 'Dell', 'Ford', 'General Electrics',\n",
       "       'Google/Alphabet', 'Goldman Sachs', 'GlaxoSmithKline', 'Home Depot',\n",
       "       'Honda', 'HP', 'IBM', 'Intel', 'Johnson & Johnson',\n",
       "       'JPMorgan Chase', 'Kimberly-Clark', 'Coca Cola', 'Lookheed Martin',\n",
       "       'MasterCard', 'McDonalds', '3M', 'Microsoft', 'Mitsubishi',\n",
       "       'Navistar', 'Northrop Grumman', 'Novartis', 'Pepsi', 'Pfizer',\n",
       "       'Procter Gamble', 'Philip Morris', 'Royal Dutch Shell', 'SAP',\n",
       "       'Schlumberger', 'Sony', 'Sanofi-Aventis', 'Symantec', 'Toyota',\n",
       "       'Total', 'Taiwan Semiconductor Manufacturing', 'Texas instruments',\n",
       "       'Unilever', 'Valero Energy', 'Walgreen', 'Wells Fargo', 'Wal-Mart',\n",
       "       'Exxon', 'Xerox', 'Yahoo'], dtype=object)"
      ]
     },
     "execution_count": 20,
     "metadata": {},
     "output_type": "execute_result"
    }
   ],
   "source": [
    "data['Unnamed: 0'].unique()"
   ]
  },
  {
   "cell_type": "code",
   "execution_count": 21,
   "metadata": {},
   "outputs": [],
   "source": [
    "X= data[data.columns[1]] # ort X = data[data.columns[1:]]\n",
    "y=data[data.columns[0]]"
   ]
  },
  {
   "cell_type": "code",
   "execution_count": 22,
   "metadata": {},
   "outputs": [
    {
     "data": {
      "text/plain": [
       "<matplotlib.collections.PathCollection at 0xa5db2f0>"
      ]
     },
     "execution_count": 22,
     "metadata": {},
     "output_type": "execute_result"
    },
    {
     "data": {
      "image/png": "[encoded data removed]",
      "text/plain": [
       "<Figure size 432x288 with 1 Axes>"
      ]
     },
     "metadata": {},
     "output_type": "display_data"
    }
   ],
   "source": [
    "plt.scatter(X,y)"
   ]
  },
  {
   "cell_type": "code",
   "execution_count": 23,
   "metadata": {},
   "outputs": [
    {
     "name": "stdout",
     "output_type": "stream",
     "text": [
      "[2 0 4 0 0 0 0 0 0 0 0 0 0 0 0 0 0 1 0 0 0 0 0 0 0 0 0 0 0 0 3 0 0 0 0 0 0\n",
      " 0 0 0 0 0 0 0 0 0 0 0 0 0 0 0 0 0 0 0 0 0 0 0]\n"
     ]
    },
    {
     "data": {
      "text/plain": [
       "<matplotlib.collections.PathCollection at 0xa7138d0>"
      ]
     },
     "execution_count": 23,
     "metadata": {},
     "output_type": "execute_result"
    },
    {
     "data": {
      "image/png": "[encoded data removed]",
      "text/plain": [
       "<Figure size 432x288 with 1 Axes>"
      ]
     },
     "metadata": {},
     "output_type": "display_data"
    }
   ],
   "source": [
    "points= data[data.columns[1:]]\n",
    "\n",
    "model= KMeans(n_clusters =5)\n",
    "\n",
    "model.fit(points)\n",
    "\n",
    "labels = model.predict(points)\n",
    "\n",
    "print(labels)\n",
    "\n",
    "plt.scatter(points[points.columns[1]],points[points.columns[2]],c = labels)"
   ]
  },
  {
   "cell_type": "code",
   "execution_count": 24,
   "metadata": {
    "scrolled": true
   },
   "outputs": [
    {
     "data": {
      "text/html": [
       "<div>\n",
       "<style scoped>\n",
       "    .dataframe tbody tr th:only-of-type {\n",
       "        vertical-align: middle;\n",
       "    }\n",
       "\n",
       "    .dataframe tbody tr th {\n",
       "        vertical-align: top;\n",
       "    }\n",
       "\n",
       "    .dataframe thead th {\n",
       "        text-align: right;\n",
       "    }\n",
       "</style>\n",
       "<table border=\"1\" class=\"dataframe\">\n",
       "  <thead>\n",
       "    <tr style=\"text-align: right;\">\n",
       "      <th></th>\n",
       "      <th>labels</th>\n",
       "      <th>names</th>\n",
       "    </tr>\n",
       "  </thead>\n",
       "  <tbody>\n",
       "    <tr>\n",
       "      <th>0</th>\n",
       "      <td>2</td>\n",
       "      <td>Apple</td>\n",
       "    </tr>\n",
       "    <tr>\n",
       "      <th>1</th>\n",
       "      <td>0</td>\n",
       "      <td>AIG</td>\n",
       "    </tr>\n",
       "    <tr>\n",
       "      <th>2</th>\n",
       "      <td>4</td>\n",
       "      <td>Amazon</td>\n",
       "    </tr>\n",
       "    <tr>\n",
       "      <th>3</th>\n",
       "      <td>0</td>\n",
       "      <td>American express</td>\n",
       "    </tr>\n",
       "    <tr>\n",
       "      <th>4</th>\n",
       "      <td>0</td>\n",
       "      <td>Boeing</td>\n",
       "    </tr>\n",
       "    <tr>\n",
       "      <th>5</th>\n",
       "      <td>0</td>\n",
       "      <td>Bank of America</td>\n",
       "    </tr>\n",
       "    <tr>\n",
       "      <th>6</th>\n",
       "      <td>0</td>\n",
       "      <td>British American Tobacco</td>\n",
       "    </tr>\n",
       "    <tr>\n",
       "      <th>7</th>\n",
       "      <td>0</td>\n",
       "      <td>Canon</td>\n",
       "    </tr>\n",
       "    <tr>\n",
       "      <th>8</th>\n",
       "      <td>0</td>\n",
       "      <td>Caterpillar</td>\n",
       "    </tr>\n",
       "    <tr>\n",
       "      <th>9</th>\n",
       "      <td>0</td>\n",
       "      <td>Colgate-Palmolive</td>\n",
       "    </tr>\n",
       "    <tr>\n",
       "      <th>10</th>\n",
       "      <td>0</td>\n",
       "      <td>ConocoPhillips</td>\n",
       "    </tr>\n",
       "    <tr>\n",
       "      <th>11</th>\n",
       "      <td>0</td>\n",
       "      <td>Cisco</td>\n",
       "    </tr>\n",
       "    <tr>\n",
       "      <th>12</th>\n",
       "      <td>0</td>\n",
       "      <td>Chevron</td>\n",
       "    </tr>\n",
       "    <tr>\n",
       "      <th>13</th>\n",
       "      <td>0</td>\n",
       "      <td>DuPont de Nemours</td>\n",
       "    </tr>\n",
       "    <tr>\n",
       "      <th>14</th>\n",
       "      <td>0</td>\n",
       "      <td>Dell</td>\n",
       "    </tr>\n",
       "    <tr>\n",
       "      <th>15</th>\n",
       "      <td>0</td>\n",
       "      <td>Ford</td>\n",
       "    </tr>\n",
       "    <tr>\n",
       "      <th>16</th>\n",
       "      <td>0</td>\n",
       "      <td>General Electrics</td>\n",
       "    </tr>\n",
       "    <tr>\n",
       "      <th>17</th>\n",
       "      <td>1</td>\n",
       "      <td>Google/Alphabet</td>\n",
       "    </tr>\n",
       "    <tr>\n",
       "      <th>18</th>\n",
       "      <td>0</td>\n",
       "      <td>Goldman Sachs</td>\n",
       "    </tr>\n",
       "    <tr>\n",
       "      <th>19</th>\n",
       "      <td>0</td>\n",
       "      <td>GlaxoSmithKline</td>\n",
       "    </tr>\n",
       "    <tr>\n",
       "      <th>20</th>\n",
       "      <td>0</td>\n",
       "      <td>Home Depot</td>\n",
       "    </tr>\n",
       "    <tr>\n",
       "      <th>21</th>\n",
       "      <td>0</td>\n",
       "      <td>Honda</td>\n",
       "    </tr>\n",
       "    <tr>\n",
       "      <th>22</th>\n",
       "      <td>0</td>\n",
       "      <td>HP</td>\n",
       "    </tr>\n",
       "    <tr>\n",
       "      <th>23</th>\n",
       "      <td>0</td>\n",
       "      <td>IBM</td>\n",
       "    </tr>\n",
       "    <tr>\n",
       "      <th>24</th>\n",
       "      <td>0</td>\n",
       "      <td>Intel</td>\n",
       "    </tr>\n",
       "    <tr>\n",
       "      <th>25</th>\n",
       "      <td>0</td>\n",
       "      <td>Johnson &amp; Johnson</td>\n",
       "    </tr>\n",
       "    <tr>\n",
       "      <th>26</th>\n",
       "      <td>0</td>\n",
       "      <td>JPMorgan Chase</td>\n",
       "    </tr>\n",
       "    <tr>\n",
       "      <th>27</th>\n",
       "      <td>0</td>\n",
       "      <td>Kimberly-Clark</td>\n",
       "    </tr>\n",
       "    <tr>\n",
       "      <th>28</th>\n",
       "      <td>0</td>\n",
       "      <td>Coca Cola</td>\n",
       "    </tr>\n",
       "    <tr>\n",
       "      <th>29</th>\n",
       "      <td>0</td>\n",
       "      <td>Lookheed Martin</td>\n",
       "    </tr>\n",
       "    <tr>\n",
       "      <th>30</th>\n",
       "      <td>3</td>\n",
       "      <td>MasterCard</td>\n",
       "    </tr>\n",
       "    <tr>\n",
       "      <th>31</th>\n",
       "      <td>0</td>\n",
       "      <td>McDonalds</td>\n",
       "    </tr>\n",
       "    <tr>\n",
       "      <th>32</th>\n",
       "      <td>0</td>\n",
       "      <td>3M</td>\n",
       "    </tr>\n",
       "    <tr>\n",
       "      <th>33</th>\n",
       "      <td>0</td>\n",
       "      <td>Microsoft</td>\n",
       "    </tr>\n",
       "    <tr>\n",
       "      <th>34</th>\n",
       "      <td>0</td>\n",
       "      <td>Mitsubishi</td>\n",
       "    </tr>\n",
       "    <tr>\n",
       "      <th>35</th>\n",
       "      <td>0</td>\n",
       "      <td>Navistar</td>\n",
       "    </tr>\n",
       "    <tr>\n",
       "      <th>36</th>\n",
       "      <td>0</td>\n",
       "      <td>Northrop Grumman</td>\n",
       "    </tr>\n",
       "    <tr>\n",
       "      <th>37</th>\n",
       "      <td>0</td>\n",
       "      <td>Novartis</td>\n",
       "    </tr>\n",
       "    <tr>\n",
       "      <th>38</th>\n",
       "      <td>0</td>\n",
       "      <td>Pepsi</td>\n",
       "    </tr>\n",
       "    <tr>\n",
       "      <th>39</th>\n",
       "      <td>0</td>\n",
       "      <td>Pfizer</td>\n",
       "    </tr>\n",
       "    <tr>\n",
       "      <th>40</th>\n",
       "      <td>0</td>\n",
       "      <td>Procter Gamble</td>\n",
       "    </tr>\n",
       "    <tr>\n",
       "      <th>41</th>\n",
       "      <td>0</td>\n",
       "      <td>Philip Morris</td>\n",
       "    </tr>\n",
       "    <tr>\n",
       "      <th>42</th>\n",
       "      <td>0</td>\n",
       "      <td>Royal Dutch Shell</td>\n",
       "    </tr>\n",
       "    <tr>\n",
       "      <th>43</th>\n",
       "      <td>0</td>\n",
       "      <td>SAP</td>\n",
       "    </tr>\n",
       "    <tr>\n",
       "      <th>44</th>\n",
       "      <td>0</td>\n",
       "      <td>Schlumberger</td>\n",
       "    </tr>\n",
       "    <tr>\n",
       "      <th>45</th>\n",
       "      <td>0</td>\n",
       "      <td>Sony</td>\n",
       "    </tr>\n",
       "    <tr>\n",
       "      <th>46</th>\n",
       "      <td>0</td>\n",
       "      <td>Sanofi-Aventis</td>\n",
       "    </tr>\n",
       "    <tr>\n",
       "      <th>47</th>\n",
       "      <td>0</td>\n",
       "      <td>Symantec</td>\n",
       "    </tr>\n",
       "    <tr>\n",
       "      <th>48</th>\n",
       "      <td>0</td>\n",
       "      <td>Toyota</td>\n",
       "    </tr>\n",
       "    <tr>\n",
       "      <th>49</th>\n",
       "      <td>0</td>\n",
       "      <td>Total</td>\n",
       "    </tr>\n",
       "    <tr>\n",
       "      <th>50</th>\n",
       "      <td>0</td>\n",
       "      <td>Taiwan Semiconductor Manufacturing</td>\n",
       "    </tr>\n",
       "    <tr>\n",
       "      <th>51</th>\n",
       "      <td>0</td>\n",
       "      <td>Texas instruments</td>\n",
       "    </tr>\n",
       "    <tr>\n",
       "      <th>52</th>\n",
       "      <td>0</td>\n",
       "      <td>Unilever</td>\n",
       "    </tr>\n",
       "    <tr>\n",
       "      <th>53</th>\n",
       "      <td>0</td>\n",
       "      <td>Valero Energy</td>\n",
       "    </tr>\n",
       "    <tr>\n",
       "      <th>54</th>\n",
       "      <td>0</td>\n",
       "      <td>Walgreen</td>\n",
       "    </tr>\n",
       "    <tr>\n",
       "      <th>55</th>\n",
       "      <td>0</td>\n",
       "      <td>Wells Fargo</td>\n",
       "    </tr>\n",
       "    <tr>\n",
       "      <th>56</th>\n",
       "      <td>0</td>\n",
       "      <td>Wal-Mart</td>\n",
       "    </tr>\n",
       "    <tr>\n",
       "      <th>57</th>\n",
       "      <td>0</td>\n",
       "      <td>Exxon</td>\n",
       "    </tr>\n",
       "    <tr>\n",
       "      <th>58</th>\n",
       "      <td>0</td>\n",
       "      <td>Xerox</td>\n",
       "    </tr>\n",
       "    <tr>\n",
       "      <th>59</th>\n",
       "      <td>0</td>\n",
       "      <td>Yahoo</td>\n",
       "    </tr>\n",
       "  </tbody>\n",
       "</table>\n",
       "</div>"
      ],
      "text/plain": [
       "    labels                               names\n",
       "0        2                               Apple\n",
       "1        0                                 AIG\n",
       "2        4                              Amazon\n",
       "3        0                    American express\n",
       "4        0                              Boeing\n",
       "5        0                     Bank of America\n",
       "6        0            British American Tobacco\n",
       "7        0                               Canon\n",
       "8        0                         Caterpillar\n",
       "9        0                   Colgate-Palmolive\n",
       "10       0                      ConocoPhillips\n",
       "11       0                               Cisco\n",
       "12       0                             Chevron\n",
       "13       0                   DuPont de Nemours\n",
       "14       0                                Dell\n",
       "15       0                                Ford\n",
       "16       0                   General Electrics\n",
       "17       1                     Google/Alphabet\n",
       "18       0                       Goldman Sachs\n",
       "19       0                     GlaxoSmithKline\n",
       "20       0                          Home Depot\n",
       "21       0                               Honda\n",
       "22       0                                  HP\n",
       "23       0                                 IBM\n",
       "24       0                               Intel\n",
       "25       0                   Johnson & Johnson\n",
       "26       0                      JPMorgan Chase\n",
       "27       0                      Kimberly-Clark\n",
       "28       0                           Coca Cola\n",
       "29       0                     Lookheed Martin\n",
       "30       3                          MasterCard\n",
       "31       0                           McDonalds\n",
       "32       0                                  3M\n",
       "33       0                           Microsoft\n",
       "34       0                          Mitsubishi\n",
       "35       0                            Navistar\n",
       "36       0                    Northrop Grumman\n",
       "37       0                            Novartis\n",
       "38       0                               Pepsi\n",
       "39       0                              Pfizer\n",
       "40       0                      Procter Gamble\n",
       "41       0                       Philip Morris\n",
       "42       0                   Royal Dutch Shell\n",
       "43       0                                 SAP\n",
       "44       0                        Schlumberger\n",
       "45       0                                Sony\n",
       "46       0                      Sanofi-Aventis\n",
       "47       0                            Symantec\n",
       "48       0                              Toyota\n",
       "49       0                               Total\n",
       "50       0  Taiwan Semiconductor Manufacturing\n",
       "51       0                   Texas instruments\n",
       "52       0                            Unilever\n",
       "53       0                       Valero Energy\n",
       "54       0                            Walgreen\n",
       "55       0                         Wells Fargo\n",
       "56       0                            Wal-Mart\n",
       "57       0                               Exxon\n",
       "58       0                               Xerox\n",
       "59       0                               Yahoo"
      ]
     },
     "execution_count": 24,
     "metadata": {},
     "output_type": "execute_result"
    }
   ],
   "source": [
    "names=data[data.columns[0]]\n",
    "df = pd.DataFrame({'labels':labels,'names':names})\n",
    "df"
   ]
  },
  {
   "cell_type": "code",
   "execution_count": 25,
   "metadata": {},
   "outputs": [],
   "source": [
    "data.drop('Unnamed: 0',axis=1,inplace = True)"
   ]
  },
  {
   "cell_type": "code",
   "execution_count": 26,
   "metadata": {},
   "outputs": [
    {
     "name": "stdout",
     "output_type": "stream",
     "text": [
      "    2010-01-04  2010-01-05  2010-01-06  2010-01-07  2010-01-08  2010-01-11  \\\n",
      "0     0.580000   -0.220005   -3.409998   -1.170000    1.680011   -2.689994   \n",
      "1    -0.640002   -0.650000   -0.210001   -0.420000    0.710001   -0.200001   \n",
      "2    -2.350006    1.260009   -2.350006   -2.009995    2.960006   -2.309997   \n",
      "3     0.109997    0.000000    0.260002    0.720002    0.190003   -0.270001   \n",
      "4     0.459999    1.770000    1.549999    2.690003    0.059997   -1.080002   \n",
      "5     0.450000    0.460001    0.180000    0.250000   -0.199999   -0.060000   \n",
      "6     0.180000    0.220001    0.040001    0.250000   -0.360001   -0.099999   \n",
      "7     0.730000    0.369999   -0.099999   -0.169999    0.030003    0.110001   \n",
      "8     0.899997    0.700001    0.250000    0.369999    1.090000    3.179996   \n",
      "9     0.360000    0.909996   -0.290001   -0.059998    1.300003    0.510003   \n",
      "10    0.809991   -0.020006    0.340003    0.089988    0.650006    0.029999   \n",
      "11    0.580000   -0.020000   -0.120001    0.230002    0.280001   -0.049999   \n",
      "12    0.860001    0.400002    0.189995   -0.029999    0.349998    0.709999   \n",
      "13    0.279997   -0.420001    0.190002    0.500001   -0.340001   -0.050002   \n",
      "14   -0.080000    0.100000   -0.170000    0.150000    0.050000    0.000000   \n",
      "15    0.110000    0.510000    0.160000    0.200000    0.020000    0.210000   \n",
      "16    0.230000    0.070000   -0.080000    0.770000    0.290001   -0.070000   \n",
      "17   -0.199995   -3.189984  -17.599998  -15.299993   10.020000   -3.349979   \n",
      "18    3.029999    3.139999   -1.120010    3.349991   -2.020004   -3.500000   \n",
      "19   -0.110001   -0.160000   -0.220001    0.079998    0.039997    0.150001   \n",
      "20   -0.480000    0.149999   -0.099998    0.260000   -0.020000   -0.840000   \n",
      "21    0.439999    0.200001    0.180001    0.189999    0.250000    0.270000   \n",
      "22    0.910002    0.530000   -0.349997    0.010000    0.489999   -0.149998   \n",
      "23    1.270004   -0.829987   -0.679993   -0.319992    1.779999   -1.580002   \n",
      "24    0.089998   -0.070000   -0.010000   -0.130000    0.289999   -0.160000   \n",
      "25   -0.029999   -0.650002    0.549995   -0.259998    0.290001   -0.529999   \n",
      "26    1.059997    0.889999    0.469997    1.000000    0.310001   -0.590000   \n",
      "27   -0.020005    0.010003   -0.820004   -0.570000   -0.159997   -0.059995   \n",
      "28   -0.119999   -0.500000   -0.019996   -0.140003   -0.309997    1.119998   \n",
      "29    0.979995    1.029999    0.410004   -1.759994    1.260003    0.209999   \n",
      "30   -1.149998   -1.760006   -0.680007    0.489997    1.650009   -4.770012   \n",
      "31    0.149998   -0.360001   -0.750000    0.650002   -0.430000    0.300000   \n",
      "32   -0.069999   -0.300003   -0.209999    0.410003    0.629998   -0.399994   \n",
      "33    0.330000    0.109999   -0.109999   -0.179998    0.379999   -0.439999   \n",
      "34    0.060000    0.020000    0.010000    0.040000    0.060000   -0.020000   \n",
      "35    0.390004   -0.520001    1.110001    0.209999   -0.190003    0.029998   \n",
      "36    0.750000    0.250002    0.369999    0.840005    0.070003   -0.250001   \n",
      "37   -1.139999   -0.050000   -0.500000    0.029999   -0.079998    0.180000   \n",
      "38    0.050003    0.980000   -0.630001   -0.379997    0.010002    0.020001   \n",
      "39    0.660000   -0.260000   -0.060000   -0.109998    0.059999    0.000000   \n",
      "40    0.009998    0.009998   -0.090001   -0.060002    0.079998    0.119999   \n",
      "41    1.019996   -0.450001    0.259998    0.759999   -0.060002   -0.340000   \n",
      "42    0.489997   -0.190003   -0.229999    0.070000    0.350002   -0.049999   \n",
      "43   -0.119999   -0.160000    0.579998    0.529999    0.530003    0.239997   \n",
      "44    0.720002    0.310005    1.630005    1.020004    1.460000   -0.650001   \n",
      "45    0.500000    0.160000   -0.029999    0.059999    0.369999   -0.119999   \n",
      "46    0.480000   -0.110001    0.160000    0.229999    0.219998    0.010003   \n",
      "47    0.359999   -0.100001    0.140002   -0.149999    0.120001   -0.099998   \n",
      "48    0.330002    0.599999    0.489998    0.680000    1.260002    0.070000   \n",
      "49    0.059997    0.010002    0.320000    0.169999    0.630005   -0.190002   \n",
      "50    0.090000   -0.070000   -0.070000   -0.300000   -0.040000   -0.110000   \n",
      "51   -0.190001   -0.090000   -0.230000    0.150000    0.740000   -0.340000   \n",
      "52    0.060001   -0.039997    0.140001   -0.010000    0.180000   -0.319997   \n",
      "53    0.640002    0.230002    0.419999    0.170007   -0.239991   -0.350004   \n",
      "54    0.290001   -0.099998    0.560001    0.250000    0.070004    0.049999   \n",
      "55    0.300000    0.800000    0.080000    1.009998   -0.039999   -0.290001   \n",
      "56    0.489998   -0.400001    0.070000   -0.120003   -0.099998    0.879997   \n",
      "57    0.430001    0.229996    0.570000   -0.099999   -0.170005    0.360001   \n",
      "58    0.090000    0.010000   -0.080000    0.070000   -0.010000    0.160000   \n",
      "59    0.159999    0.010001    0.000000   -0.109998    0.020001   -0.030000   \n",
      "\n",
      "    2010-01-12  2010-01-13  2010-01-14  2010-01-15     ...      2013-10-16  \\\n",
      "0    -1.469994    2.779997   -0.680003   -4.999995     ...        0.320008   \n",
      "1    -1.130001    0.069999   -0.119999   -0.500000     ...        0.919998   \n",
      "2    -1.640007    1.209999   -1.790001   -2.039994     ...        2.109985   \n",
      "3     0.750000    0.300004    0.639999   -0.130001     ...        0.680001   \n",
      "4     0.360000    0.549999    0.530002   -0.709999     ...        1.559997   \n",
      "5    -0.359998    0.190001    0.190001   -0.379999     ...        0.240000   \n",
      "6     0.570000   -0.139999    0.260002   -0.150002     ...        0.220001   \n",
      "7    -0.079998    0.140000    0.389999   -0.130001     ...        0.209999   \n",
      "8    -0.769996    0.230004   -0.119998   -1.330002     ...        0.209999   \n",
      "9     1.050003    0.529999   -0.360001   -0.540001     ...        0.949997   \n",
      "10   -0.569995    0.549994    0.320001    0.190000     ...        0.639999   \n",
      "11   -0.240000    0.359998    0.370001   -0.600000     ...       -0.219999   \n",
      "12    0.890007   -0.469994   -0.079994   -0.309998     ...       -0.259994   \n",
      "13    0.000000    0.209999   -0.270003    0.000000     ...        0.490003   \n",
      "14    0.230000   -0.040000   -0.250000   -0.470000     ...        0.009000   \n",
      "15   -0.110000   -0.230000    0.110000   -0.140000     ...        0.210001   \n",
      "16    0.190000    0.070000   -0.090000   -0.239999     ...        0.010001   \n",
      "17   -7.170008   10.599985    5.949977  -13.340041     ...       12.160008   \n",
      "18   -2.189988    1.060012    0.529999   -2.389999     ...        3.669998   \n",
      "19    0.239998    0.079998    0.090001   -0.229999     ...        0.139999   \n",
      "20   -0.170000    0.129999    0.179998    0.260001     ...       -0.500000   \n",
      "21   -0.130001    0.380001    0.049999   -0.129997     ...        0.310002   \n",
      "22   -0.060001    0.020001    0.279996   -0.119998     ...        0.350001   \n",
      "23    1.479996   -0.160003    1.759995   -0.250000     ...        1.309998   \n",
      "24   -0.260000    0.240000    0.369999   -0.590000     ...        0.440001   \n",
      "25    0.430001    0.430000   -0.099999   -0.580001     ...        0.690003   \n",
      "26   -0.500000    0.700001    0.489998   -0.619999     ...        1.389999   \n",
      "27    0.490001    0.350001   -0.659999   -0.620001     ...        0.970006   \n",
      "28    0.790001    0.169998    0.090000   -0.660000     ...       -0.009998   \n",
      "29    0.209999    0.719993    0.049995   -0.199997     ...        1.199997   \n",
      "30    0.070000    4.340000    4.230003    0.839996     ...        6.040040   \n",
      "31    0.630001   -0.270001    0.090001   -0.389999     ...        0.919998   \n",
      "32    0.470001   -0.330002   -0.239998   -0.149994     ...        0.080001   \n",
      "33   -0.080000    0.090000    0.650000   -0.219999     ...        0.040001   \n",
      "34   -0.010000    0.030000    0.090000    0.050000     ...        0.070000   \n",
      "35   -0.510002    0.679996    0.639999   -0.590000     ...        0.539997   \n",
      "36    0.320001    1.540007    0.060001   -0.440002     ...        0.660003   \n",
      "37    0.360000   -0.020001    0.410000    0.040001     ...        0.450004   \n",
      "38    1.029999    0.639999    0.779999   -0.320000     ...        0.269997   \n",
      "39   -0.029999    0.339998    0.179998    0.060000     ...        0.539999   \n",
      "40    0.189998    0.479999    0.160004   -0.779998     ...        0.989998   \n",
      "41   -0.200001    0.500000    0.119998   -0.040001     ...        0.139999   \n",
      "42    0.169998    0.150002    0.399998   -0.500000     ...       -0.120003   \n",
      "43   -0.030003   -0.209999   -1.080002   -0.719997     ...        0.580002   \n",
      "44    0.389999    1.139999    1.180000   -0.389999     ...        1.250000   \n",
      "45    0.100001    0.380001    0.140000   -0.200001     ...        0.130001   \n",
      "46    0.250000    0.049999    0.389999   -0.380001     ...        0.100002   \n",
      "47    0.139999   -0.049999   -0.010000   -0.140000     ...       -0.010000   \n",
      "48    0.070000    0.200004    1.410003   -0.739998     ...        0.740005   \n",
      "49    0.269997   -0.160004    0.290000   -0.710003     ...       -0.380001   \n",
      "50   -0.180000    0.270000   -0.140000   -0.340000     ...        0.110001   \n",
      "51   -1.110000    0.010000   -0.180000   -0.180000     ...        0.759998   \n",
      "52    0.080000   -0.050003   -0.039997   -0.090001     ...        0.170002   \n",
      "53    0.039997   -0.139998    0.209993    0.520001     ...        0.490002   \n",
      "54   -0.099998    0.430000   -0.049999   -0.330002     ...        0.849998   \n",
      "55   -0.389999    0.590000    0.490000   -0.740000     ...        0.299999   \n",
      "56    0.730000    0.219997   -0.520001   -0.660000     ...        0.790000   \n",
      "57    0.229996   -0.290001    0.139999   -0.540001     ...       -0.170005   \n",
      "58    0.170000    0.070000   -0.020000   -0.010000     ...        0.010000   \n",
      "59    0.030000    0.020001    0.310002   -0.430000     ...       -0.810002   \n",
      "\n",
      "    2013-10-17  2013-10-18  2013-10-21  2013-10-22  2013-10-23  2013-10-24  \\\n",
      "0     4.519997    2.899987    9.590019   -6.540016    5.959976    6.910011   \n",
      "1     0.709999    0.119999   -0.480000    0.010002   -0.279998   -0.190003   \n",
      "2     3.699982    9.570008   -3.450013    4.820008   -4.079986    2.579986   \n",
      "3     2.290001    0.409996   -0.069999    0.100006    0.069999    0.130005   \n",
      "4     2.480003    0.019997   -1.220001    0.480003    3.020004   -0.029999   \n",
      "5     0.210000   -0.050000   -0.010000   -0.030000   -0.240000    0.050000   \n",
      "6     2.250000    0.470001    0.320000   -0.040001   -0.430000   -0.019997   \n",
      "7     0.560002    0.069999    0.119999    0.050003   -0.459999    0.259998   \n",
      "8     0.519996    1.029998   -0.020004    1.290001   -0.390000    1.209999   \n",
      "9     1.520001   -0.320000   -0.500000    1.080002    0.280002    0.620003   \n",
      "10    0.730004   -0.150002   -0.479996    0.000000   -0.529999    0.720001   \n",
      "11   -0.019998    0.099998   -0.180001   -0.340000   -0.350001    0.030001   \n",
      "12    0.419999    0.040001    0.190003    0.500000   -0.160004   -0.110000   \n",
      "13    0.529999   -0.200000    0.000000    0.349998   -0.180000    1.150003   \n",
      "14    0.010000   -0.020000    0.010000   -0.005000   -0.005000    0.010000   \n",
      "15    0.219999    0.010001   -0.090000    0.050001   -0.140000   -0.250000   \n",
      "16    0.300001    0.340000    0.269998   -0.170001   -0.289999    0.100001   \n",
      "17   -4.200020   34.830004   -8.159984    2.000013   30.409929   -6.320089   \n",
      "18    1.840011   -0.149994    1.100006   -1.389999   -0.279999    0.510010   \n",
      "19    0.310002   -0.130001    0.120003    0.160000    0.129997    0.050003   \n",
      "20    1.229996   -0.570000    0.020005   -0.180000    0.540001    1.360001   \n",
      "21    0.349998    0.020001    0.050003    0.100002   -0.090000    0.039997   \n",
      "22    0.259999   -0.050000    0.030001    0.470001   -0.079999    0.100000   \n",
      "23    0.990006   -1.020004   -1.559997    1.619995    0.680008    1.370010   \n",
      "24    0.340000    0.019998    0.199998   -0.100000   -0.190000   -0.080000   \n",
      "25    1.099998   -0.120003   -0.430000    0.830002    0.029998   -0.300004   \n",
      "26    0.419998    0.040001    0.000000   -1.030003   -0.560001   -0.360000   \n",
      "27    1.390009   -0.450002    0.000000    0.539993    2.740000   -0.510002   \n",
      "28    0.489998    0.199997   -0.130001    0.229999    0.009998   -0.350003   \n",
      "29    1.790001   -0.710007   -3.599991    0.460007    1.979996    0.599991   \n",
      "30   11.949997    8.190003    0.819931   -3.080063   -5.029984   10.140000   \n",
      "31    0.279999   -0.500000    0.889999    0.440003   -0.870003    0.269996   \n",
      "32    1.880005   -0.030007    0.459999    0.440002   -0.230003    0.529999   \n",
      "33    0.469997    0.139999    0.010002   -0.439998   -0.590000   -0.099999   \n",
      "34    0.070000    0.020000    0.010000   -0.010000   -0.020000    0.020000   \n",
      "35    0.169998    0.829998   -0.469997    0.010002    0.200000   -0.070000   \n",
      "36    2.220001    0.709999   -1.540001    0.799995    3.059998    1.520004   \n",
      "37    0.150002    0.479996    0.490005    1.010002    0.300003   -0.310006   \n",
      "38    0.529999    0.360000   -0.599998    0.990005    0.060005   -0.870003   \n",
      "39    0.440000    0.319999   -0.069999    0.300001   -0.050000   -0.069999   \n",
      "40    1.229996    0.020005   -0.299996    1.069999    0.570008   -0.159996   \n",
      "41    1.059997    0.080002    0.209999    1.010002    0.720001   -0.470002   \n",
      "42    0.660004    0.310005    0.489998    0.200005   -0.169998   -0.330002   \n",
      "43    0.069999    1.629997   -0.939994    0.800003    0.200005   -0.340004   \n",
      "44   -0.400002    0.890000   -0.640000    1.070000   -0.830002    0.040000   \n",
      "45    0.280001   -0.260000    0.010000    0.020001   -0.149999   -0.060002   \n",
      "46    0.330002    0.310001    0.230000   -0.010003    0.280003    0.030002   \n",
      "47    0.059999    0.199998   -0.080000   -0.310001   -0.349998    0.190001   \n",
      "48    0.650009    0.520004    0.010010   -1.819992   -0.009995    0.220001   \n",
      "49    0.389999    0.030003   -0.219997    0.489998    0.020001   -0.159999   \n",
      "50    0.400000    0.330000    0.029999    0.100001   -0.260001   -0.119999   \n",
      "51    0.370003    0.020000    0.440003    0.099999   -0.270000    0.229999   \n",
      "52    0.289997   -0.029999    0.079998    0.090000   -0.040001   -0.220001   \n",
      "53    1.200000    0.369998    0.490002    0.510002    0.049999   -0.530003   \n",
      "54    1.119999   -0.240002   -0.219997    0.189999    0.080002    0.380001   \n",
      "55    0.639999   -0.040001   -0.020000    0.189999   -0.150002   -0.240001   \n",
      "56    0.290001   -0.090004   -0.569999    0.890000   -0.279998    0.389999   \n",
      "57    0.350006   -0.139999   -0.269997    0.690002    0.090004    0.439995   \n",
      "58    0.140000    0.030000    0.050000   -0.120000   -0.200000   -0.860000   \n",
      "59   -0.139999    0.260002    0.409999   -0.300003   -0.660000   -0.079998   \n",
      "\n",
      "    2013-10-25  2013-10-28  2013-10-29  \n",
      "0    -5.359962    0.840019  -19.589981  \n",
      "1    -0.040001   -0.400002    0.660000  \n",
      "2     4.790009   -1.760009    3.740021  \n",
      "3     1.849999    0.040001    0.540001  \n",
      "4     1.940002    1.130005    0.309998  \n",
      "5     0.110000   -0.060000   -0.110000  \n",
      "6    -0.129998    0.330002    1.150001  \n",
      "7    -0.109999    0.090001   -0.110001  \n",
      "8     0.449997   -0.220001    0.159996  \n",
      "9     0.359996    1.070003    1.050003  \n",
      "10    0.529999   -0.020005    0.139999  \n",
      "11   -0.130001    0.149999    0.170000  \n",
      "12    0.000000    0.350006    0.169998  \n",
      "13   -0.669999   -0.329999   -0.120000  \n",
      "14   -0.010000   -0.010000    0.020000  \n",
      "15   -0.240000   -0.090000    0.040001  \n",
      "16   -0.190001    0.210001    0.019998  \n",
      "17  -13.620034   -0.199995   17.139948  \n",
      "18    2.089996   -0.550003    0.039994  \n",
      "19   -0.010002    0.330002    0.149998  \n",
      "20   -0.300003   -0.090004    1.050003  \n",
      "21   -0.090000   -0.120003   -0.020001  \n",
      "22   -0.080002   -0.130000   -0.120002  \n",
      "23   -1.579987    0.310013    4.500000  \n",
      "24    0.129999    0.180001    0.120000  \n",
      "25    0.049995    0.430000    0.339996  \n",
      "26    0.610000   -0.209999   -0.100002  \n",
      "27    1.509999    1.799993    0.749999  \n",
      "28    0.189999    0.590001    0.229999  \n",
      "29    1.589996   -0.529999    0.260010  \n",
      "30   -1.220016    5.910034   -0.999985  \n",
      "31    0.000000    0.680001    0.430000  \n",
      "32    1.369995    0.790001    0.199997  \n",
      "33   -0.150001   -0.040001   -0.110001  \n",
      "34    0.020000   -0.010000    0.040000  \n",
      "35   -0.270000    0.350002   -0.139999  \n",
      "36    1.090004   -0.229995    0.419999  \n",
      "37   -0.240006    0.050003   -0.239997  \n",
      "38    0.799995    1.250000    0.739998  \n",
      "39    0.130001    0.289999    0.410000  \n",
      "40   -0.550003    1.190002    1.000000  \n",
      "41    0.830001    1.169999    0.260003  \n",
      "42   -0.290001    0.020004   -0.220001  \n",
      "43   -0.360001   -0.229996   -0.670006  \n",
      "44    0.430001    0.139999    0.760002  \n",
      "45    0.010000    0.010000   -0.030000  \n",
      "46    0.190003    0.170002   -0.160004  \n",
      "47    0.240000   -0.039999    0.080000  \n",
      "48   -0.119996   -0.630005    0.449997  \n",
      "49   -0.500000    0.180000    0.000000  \n",
      "50    0.090000    0.020001    0.079999  \n",
      "51    0.279999    0.879997    0.349998  \n",
      "52    0.070000    0.400002    0.149998  \n",
      "53   -0.040001   -0.180000    0.369999  \n",
      "54   -0.050003   -0.130001    0.410000  \n",
      "55    0.220002    0.000000   -0.049999  \n",
      "56   -0.290001    0.979995   -0.190002  \n",
      "57   -0.260002    0.400001    0.480003  \n",
      "58   -0.030000    0.020000   -0.030000  \n",
      "59   -0.060001    0.259998    0.099998  \n",
      "\n",
      "[60 rows x 963 columns]\n"
     ]
    }
   ],
   "source": [
    "point=data[data.columns]\n",
    "print(point)"
   ]
  },
  {
   "cell_type": "code",
   "execution_count": 27,
   "metadata": {},
   "outputs": [
    {
     "name": "stdout",
     "output_type": "stream",
     "text": [
      "1 133634.072271\n",
      "2 79397.9544783\n",
      "3 51942.0882395\n",
      "4 27001.342217\n",
      "5 16922.7599632\n",
      "6 13106.5399729\n",
      "7 11088.6328613\n",
      "8 9944.79819399\n",
      "9 9184.86746651\n"
     ]
    }
   ],
   "source": [
    "n_cluster = np.arange(1,10)\n",
    "\n",
    "inertias=[]\n",
    "\n",
    "for cluster in n_cluster:\n",
    "    model=KMeans(n_clusters=cluster)\n",
    "    model.fit(point)\n",
    "    inertias.append(model.inertia_)\n",
    "    \n",
    "for num,inertia in zip(n_cluster,inertias):\n",
    "    print(num,inertia)\n",
    "    "
   ]
  },
  {
   "cell_type": "code",
   "execution_count": 28,
   "metadata": {},
   "outputs": [
    {
     "data": {
      "image/png": "[encoded data removed]",
      "text/plain": [
       "<Figure size 432x288 with 1 Axes>"
      ]
     },
     "metadata": {},
     "output_type": "display_data"
    }
   ],
   "source": [
    "plt.plot(n_cluster,inertias,'-o')\n",
    "\n",
    "plt.xlabel('no.of clusters')\n",
    "plt.ylabel('inertia')\n",
    "plt.show()"
   ]
  },
  {
   "cell_type": "code",
   "execution_count": 29,
   "metadata": {},
   "outputs": [
    {
     "data": {
      "text/plain": [
       "<matplotlib.collections.PathCollection at 0x9c40430>"
      ]
     },
     "execution_count": 29,
     "metadata": {},
     "output_type": "execute_result"
    },
    {
     "data": {
      "image/png": "[encoded data removed]",
      "text/plain": [
       "<Figure size 432x288 with 1 Axes>"
      ]
     },
     "metadata": {},
     "output_type": "display_data"
    }
   ],
   "source": [
    "model2 = KMeans(n_clusters=3)\n",
    "model2.fit(point)\n",
    "labels2=model.predict(point)\n",
    "\n",
    "plt.scatter(point[point.columns[0]],point[point.columns[1]],c=labels2)"
   ]
  },
  {
   "cell_type": "code",
   "execution_count": null,
   "metadata": {},
   "outputs": [],
   "source": []
  }
 ],
 "metadata": {
  "kernelspec": {
   "display_name": "Python 3",
   "language": "python",
   "name": "python3"
  },
  "language_info": {
   "codemirror_mode": {
    "name": "ipython",
    "version": 3
   },
   "file_extension": ".py",
   "mimetype": "text/x-python",
   "name": "python",
   "nbconvert_exporter": "python",
   "pygments_lexer": "ipython3",
   "version": "3.6.5"
  }
 },
 "nbformat": 4,
 "nbformat_minor": 2
}
