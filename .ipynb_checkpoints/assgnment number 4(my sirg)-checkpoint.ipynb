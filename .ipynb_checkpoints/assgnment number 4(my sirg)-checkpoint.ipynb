{
 "cells": [
  {
   "cell_type": "code",
   "execution_count": 1,
   "metadata": {},
   "outputs": [
    {
     "name": "stdout",
     "output_type": "stream",
     "text": [
      "enter a number5\n",
      "prime number\n"
     ]
    }
   ],
   "source": [
    "n=int(input(\"enter a number\"))\n",
    "i=2\n",
    "count=0\n",
    "while i<n:\n",
    "    if n%i!=0:\n",
    "        i=i+1\n",
    "    else:\n",
    "        count=count+1\n",
    "if count==1:\n",
    "    print('not a prime number')\n",
    "else :\n",
    "    print('prime number')"
   ]
  },
  {
   "cell_type": "code",
   "execution_count": null,
   "metadata": {},
   "outputs": [
    {
     "name": "stdout",
     "output_type": "stream",
     "text": [
      "enter first number2\n",
      "enter second number7\n"
     ]
    }
   ],
   "source": [
    "a=int(input('enter first number'))\n",
    "b=int(input('enter second number'))\n",
    "\n",
    "c=min(a,b)\n",
    "d=max(a,b)\n",
    "i=c+1\n",
    "\n",
    "j=2\n",
    "\n",
    "\n",
    "while i<d:\n",
    "    count=0\n",
    "    while j<i:\n",
    "        if i%j!=0:\n",
    "            i=i+1\n",
    "        else:\n",
    "            count=count+1\n",
    "    if count==0:\n",
    "        print(i)\n",
    "        i=i+1\n",
    "    else:\n",
    "        i=i+1\n",
    "        "
   ]
  },
  {
   "cell_type": "code",
   "execution_count": null,
   "metadata": {},
   "outputs": [],
   "source": []
  },
  {
   "cell_type": "code",
   "execution_count": null,
   "metadata": {},
   "outputs": [],
   "source": []
  }
 ],
 "metadata": {
  "kernelspec": {
   "display_name": "Python 3",
   "language": "python",
   "name": "python3"
  },
  "language_info": {
   "codemirror_mode": {
    "name": "ipython",
    "version": 3
   },
   "file_extension": ".py",
   "mimetype": "text/x-python",
   "name": "python",
   "nbconvert_exporter": "python",
   "pygments_lexer": "ipython3",
   "version": "3.6.5"
  }
 },
 "nbformat": 4,
 "nbformat_minor": 2
}
