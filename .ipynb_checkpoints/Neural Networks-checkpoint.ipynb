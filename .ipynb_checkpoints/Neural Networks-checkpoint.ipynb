{
 "cells": [
  {
   "cell_type": "markdown",
   "metadata": {},
   "source": [
    "# Neural Networks Part 1\n"
   ]
  },
  {
   "cell_type": "code",
   "execution_count": 4,
   "metadata": {},
   "outputs": [
    {
     "name": "stdout",
     "output_type": "stream",
     "text": [
      "5\n",
      "1\n",
      "[5 1]\n",
      "9\n"
     ]
    }
   ],
   "source": [
    "import numpy as np\n",
    "\n",
    "input_data=np.array([2,3])\n",
    "\n",
    "weights ={'node_0':np.array([1,1]),'node_1':np.array([-1,1]),'output':np.array([2,-1])}\n",
    "\n",
    "# Calculate node 0 value: node_0_value\n",
    "node_0_value=(input_data*weights['node_0']).sum()\n",
    "\n",
    "# Calculate node 1 value: node_0_value\n",
    "node_1_value=(input_data*weights['node_1']).sum()\n",
    "\n",
    "print(node_0_value)\n",
    "print(node_1_value)\n",
    "\n",
    "# Put node values into array:hidden layer outputs\n",
    "hidden_layer_outputs=np.array([node_0_value,node_1_value])\n",
    "\n",
    "print(hidden_layer_outputs)\n",
    "\n",
    "prediction=(hidden_layer_outputs*weights['output']).sum()\n",
    "\n",
    "print(prediction)\n"
   ]
  },
  {
   "cell_type": "markdown",
   "metadata": {},
   "source": [
    "#### Activation Function\n",
    "1.tanh\n",
    "\n",
    "2.relu"
   ]
  },
  {
   "cell_type": "code",
   "execution_count": 5,
   "metadata": {},
   "outputs": [
    {
     "name": "stdout",
     "output_type": "stream",
     "text": [
      "9\n"
     ]
    }
   ],
   "source": [
    "def relu(input):\n",
    "    output=max(0,input)\n",
    "    return(output)\n",
    "node_0_input=(input_data*weights['node_0']).sum()\n",
    "node_0_output=relu(node_0_input)\n",
    "\n",
    "node_1_input=(input_data*weights['node_1']).sum()\n",
    "node_1_output=relu(node_1_input)\n",
    "\n",
    "hidden_layer_outputs=np.array([node_0_output,node_1_output])\n",
    "\n",
    "prediction=relu((hidden_layer_outputs*weights['output']).sum())\n",
    "\n",
    "print(prediction)\n",
    "    "
   ]
  },
  {
   "cell_type": "markdown",
   "metadata": {},
   "source": [
    "# Neural Networks Part 2 (Back Propagation)\n"
   ]
  },
  {
   "cell_type": "code",
   "execution_count": 6,
   "metadata": {},
   "outputs": [],
   "source": [
    "def prediction_with_network(input_data,weights):\n",
    "    \n",
    "    node_0_input=(input_data*weights['node_0']).sum()\n",
    "    node_0_output=relu(node_0_input)\n",
    "\n",
    "    node_1_input=(input_data*weights['node_1']).sum()\n",
    "    node_1_output=relu(node_1_input)\n",
    "\n",
    "    hidden_layer_outputs=np.array([node_0_output,node_1_output])\n",
    "\n",
    "    prediction=relu((hidden_layer_outputs*weights['output']).sum())\n",
    "    \n",
    "    return(prediction)\n",
    "    \n",
    "    \n"
   ]
  },
  {
   "cell_type": "code",
   "execution_count": 7,
   "metadata": {},
   "outputs": [
    {
     "name": "stdout",
     "output_type": "stream",
     "text": [
      "6\n",
      "6\n"
     ]
    }
   ],
   "source": [
    "input_data=np.array([0,3])\n",
    "target_actual=3\n",
    "\n",
    "weights_0={'node_0':[2,1],'node_1':[1,2],'output':[1,1]}\n",
    "prediction_0=prediction_with_network(input_data,weights_0)\n",
    "\n",
    "weights_1={'node_0':[2,1],'node_1':[1,2],'output':[1,1]}\n",
    "prediction_1=prediction_with_network(input_data,weights_1)\n",
    "\n",
    "error_0=prediction_0-target_actual\n",
    "print(error_0)\n",
    "error_1=prediction_1-target_actual\n",
    "print(error_1)\n"
   ]
  },
  {
   "cell_type": "code",
   "execution_count": 8,
   "metadata": {},
   "outputs": [
    {
     "name": "stdout",
     "output_type": "stream",
     "text": [
      "6\n",
      "0\n"
     ]
    }
   ],
   "source": [
    "input_data=np.array([0,3])\n",
    "target_actual=3\n",
    "\n",
    "weights_0={'node_0':[2,1],'node_1':[1,2],'output':[1,1]}\n",
    "prediction_0=prediction_with_network(input_data,weights_0)\n",
    "\n",
    "weights_1={'node_0':[2,1],'node_1':[1,0],'output':[1,1]}\n",
    "prediction_1=prediction_with_network(input_data,weights_1)\n",
    "\n",
    "error_0=prediction_0-target_actual\n",
    "print(error_0)\n",
    "error_1=prediction_1-target_actual\n",
    "print(error_1)\n"
   ]
  },
  {
   "cell_type": "code",
   "execution_count": 9,
   "metadata": {},
   "outputs": [
    {
     "name": "stdout",
     "output_type": "stream",
     "text": [
      "mean squared error with weights_0 37.5\n",
      "mean squared error with weights_1 14.5\n"
     ]
    }
   ],
   "source": [
    "from sklearn.metrics import mean_squared_error\n",
    "\n",
    "input_data=np.array([[0,3],[1,2],[-1,-2],[4,0]])\n",
    "target_actuals=np.array([1,3,5,7])\n",
    "\n",
    "prediction_0=[]\n",
    "prediction_1=[]\n",
    "\n",
    "for row in input_data:\n",
    "    prediction_0.append(prediction_with_network(row,weights_0))\n",
    "    prediction_1.append(prediction_with_network(row,weights_1))\n",
    "\n",
    "mse_0=mean_squared_error(prediction_0,target_actuals)\n",
    "mse_1=mean_squared_error(prediction_1,target_actuals)\n",
    "\n",
    "print('mean squared error with weights_0',mse_0)\n",
    "print('mean squared error with weights_1',mse_1)\n",
    "\n"
   ]
  },
  {
   "cell_type": "code",
   "execution_count": 10,
   "metadata": {},
   "outputs": [],
   "source": [
    "def get_slope1(input_data,weights):\n",
    "    error = prediction-target\n",
    "    loss=(error)**2\n",
    "    slope=2*error*input_data\n",
    "    return(slope)"
   ]
  },
  {
   "cell_type": "code",
   "execution_count": 11,
   "metadata": {},
   "outputs": [
    {
     "name": "stdout",
     "output_type": "stream",
     "text": [
      "[16 32 48]\n"
     ]
    }
   ],
   "source": [
    "weights=np.array([0,1,2])\n",
    "input_data=np.array([1,2,3])\n",
    "target=0\n",
    "\n",
    "prediction=(input_data*weights).sum()\n",
    "\n",
    "slope=get_slope1(input_data,weights)\n",
    "\n",
    "print(slope)\n",
    "\n"
   ]
  },
  {
   "cell_type": "code",
   "execution_count": 12,
   "metadata": {},
   "outputs": [],
   "source": [
    "def get_slope2(input_data,weights):\n",
    "    \n",
    "    loss=(error)**2\n",
    "    slope=2*error*input_data\n",
    "    return(slope)"
   ]
  },
  {
   "cell_type": "code",
   "execution_count": 15,
   "metadata": {},
   "outputs": [
    {
     "name": "stdout",
     "output_type": "stream",
     "text": [
      "8\n",
      "5.760000000000001\n"
     ]
    }
   ],
   "source": [
    "weights=np.array([0,1,2])\n",
    "input_data=np.array([1,2,3])\n",
    "target=0\n",
    "\n",
    "\n",
    "learning_rate=0.01\n",
    "prediction=(input_data*weights).sum()\n",
    "error = prediction-target\n",
    "\n",
    "slope=get_slope2(input_data,weights)\n",
    "\n",
    "weights=weights-learning_rate*slope\n",
    "prediction=(input_data*weights).sum()\n",
    "\n",
    "error1=prediction-target\n",
    "print(error)\n",
    "print(error1)"
   ]
  },
  {
   "cell_type": "code",
   "execution_count": 42,
   "metadata": {},
   "outputs": [
    {
     "name": "stdout",
     "output_type": "stream",
     "text": [
      "8\n",
      "5.760000000000001\n",
      "4.1472\n",
      "2.9859839999999993\n",
      "2.1499084799999992\n",
      "1.5479341055999996\n",
      "1.1145125560319997\n",
      "0.8024490403430398\n",
      "0.5777633090469885\n",
      "0.4159895825138318\n",
      "0.29951249940995894\n",
      "0.21564899957517059\n",
      "0.1552672796941228\n",
      "0.1117924413797684\n",
      "0.08049055779343317\n",
      "0.05795320161127182\n",
      "0.04172630516011577\n",
      "0.03004293971528349\n",
      "0.021630916595003935\n",
      "0.01557425994840278\n",
      "0.011213467162849877\n",
      "0.00807369635725208\n",
      "0.0058130613772212625\n",
      "0.004185404191599296\n",
      "0.003013491017951453\n",
      "0.002169713532925055\n",
      "0.0015621937437060307\n",
      "0.0011247794954685197\n",
      "0.0008098412367372188\n",
      "0.0005830856904507353\n"
     ]
    }
   ],
   "source": [
    "weights=np.array([0,1,2])\n",
    "input_data=np.array([1,2,3])\n",
    "target=0\n",
    "\n",
    "error_list=[]\n",
    "learning_rate=0.01\n",
    "\n",
    "\n",
    "for i in range(30):\n",
    "    prediction=(input_data*weights).sum()\n",
    "    error = prediction-target\n",
    "    error_list.append(error)\n",
    "    print(error)\n",
    "    \n",
    "    slope=get_slope2(input_data,weights)\n",
    "\n",
    "    weights=weights-learning_rate*slope\n",
    "    prediction=(input_data*weights).sum()\n",
    "    error=prediction-target\n",
    "    "
   ]
  },
  {
   "cell_type": "code",
   "execution_count": 43,
   "metadata": {},
   "outputs": [
    {
     "data": {
      "image/png": "[encoded data removed]",
      "text/plain": [
       "<Figure size 432x288 with 1 Axes>"
      ]
     },
     "metadata": {},
     "output_type": "display_data"
    }
   ],
   "source": [
    "import matplotlib.pyplot as plt\n",
    "plt.plot(error_list)\n",
    "plt.show()"
   ]
  },
  {
   "cell_type": "code",
   "execution_count": 44,
   "metadata": {},
   "outputs": [],
   "source": [
    "def get_mse(input_data,weights):\n",
    "    prediction=(input_data*weights).sum()\n",
    "    mse=mean_squared_error(prediction,target)\n",
    "    return(mse)"
   ]
  },
  {
   "cell_type": "code",
   "execution_count": 46,
   "metadata": {},
   "outputs": [
    {
     "ename": "TypeError",
     "evalue": "Singleton array 8 cannot be considered a valid collection.",
     "output_type": "error",
     "traceback": [
      "\u001b[1;31m---------------------------------------------------------------------------\u001b[0m",
      "\u001b[1;31mTypeError\u001b[0m                                 Traceback (most recent call last)",
      "\u001b[1;32m<ipython-input-46-b69f80d3333f>\u001b[0m in \u001b[0;36m<module>\u001b[1;34m()\u001b[0m\n\u001b[0;32m      8\u001b[0m \u001b[1;33m\u001b[0m\u001b[0m\n\u001b[0;32m      9\u001b[0m \u001b[1;32mfor\u001b[0m \u001b[0mi\u001b[0m \u001b[1;32min\u001b[0m \u001b[0mrange\u001b[0m\u001b[1;33m(\u001b[0m\u001b[1;36m20\u001b[0m\u001b[1;33m)\u001b[0m\u001b[1;33m:\u001b[0m\u001b[1;33m\u001b[0m\u001b[0m\n\u001b[1;32m---> 10\u001b[1;33m     \u001b[0mmse\u001b[0m\u001b[1;33m=\u001b[0m\u001b[0mget_mse\u001b[0m\u001b[1;33m(\u001b[0m\u001b[0minput_data\u001b[0m\u001b[1;33m,\u001b[0m\u001b[0mweights\u001b[0m\u001b[1;33m)\u001b[0m\u001b[1;33m\u001b[0m\u001b[0m\n\u001b[0m\u001b[0;32m     11\u001b[0m     \u001b[0mmse_list\u001b[0m\u001b[1;33m=\u001b[0m\u001b[0mmse\u001b[0m\u001b[1;33m.\u001b[0m\u001b[0mtolist\u001b[0m\u001b[1;33m(\u001b[0m\u001b[1;33m)\u001b[0m\u001b[1;33m\u001b[0m\u001b[0m\n\u001b[0;32m     12\u001b[0m     \u001b[0mprint\u001b[0m\u001b[1;33m(\u001b[0m\u001b[0mmse\u001b[0m\u001b[1;33m)\u001b[0m\u001b[1;33m\u001b[0m\u001b[0m\n",
      "\u001b[1;32m<ipython-input-44-eb92eaa3f0af>\u001b[0m in \u001b[0;36mget_mse\u001b[1;34m(input_data, weights)\u001b[0m\n\u001b[0;32m      1\u001b[0m \u001b[1;32mdef\u001b[0m \u001b[0mget_mse\u001b[0m\u001b[1;33m(\u001b[0m\u001b[0minput_data\u001b[0m\u001b[1;33m,\u001b[0m\u001b[0mweights\u001b[0m\u001b[1;33m)\u001b[0m\u001b[1;33m:\u001b[0m\u001b[1;33m\u001b[0m\u001b[0m\n\u001b[0;32m      2\u001b[0m     \u001b[0mprediction\u001b[0m\u001b[1;33m=\u001b[0m\u001b[1;33m(\u001b[0m\u001b[0minput_data\u001b[0m\u001b[1;33m*\u001b[0m\u001b[0mweights\u001b[0m\u001b[1;33m)\u001b[0m\u001b[1;33m.\u001b[0m\u001b[0msum\u001b[0m\u001b[1;33m(\u001b[0m\u001b[1;33m)\u001b[0m\u001b[1;33m\u001b[0m\u001b[0m\n\u001b[1;32m----> 3\u001b[1;33m     \u001b[0mmse\u001b[0m\u001b[1;33m=\u001b[0m\u001b[0mmean_squared_error\u001b[0m\u001b[1;33m(\u001b[0m\u001b[0mprediction\u001b[0m\u001b[1;33m,\u001b[0m\u001b[0mtarget\u001b[0m\u001b[1;33m)\u001b[0m\u001b[1;33m\u001b[0m\u001b[0m\n\u001b[0m\u001b[0;32m      4\u001b[0m     \u001b[1;32mreturn\u001b[0m\u001b[1;33m(\u001b[0m\u001b[0mmse\u001b[0m\u001b[1;33m)\u001b[0m\u001b[1;33m\u001b[0m\u001b[0m\n",
      "\u001b[1;32m~\\Anaconda3\\lib\\site-packages\\sklearn\\metrics\\regression.py\u001b[0m in \u001b[0;36mmean_squared_error\u001b[1;34m(y_true, y_pred, sample_weight, multioutput)\u001b[0m\n\u001b[0;32m    236\u001b[0m     \"\"\"\n\u001b[0;32m    237\u001b[0m     y_type, y_true, y_pred, multioutput = _check_reg_targets(\n\u001b[1;32m--> 238\u001b[1;33m         y_true, y_pred, multioutput)\n\u001b[0m\u001b[0;32m    239\u001b[0m     output_errors = np.average((y_true - y_pred) ** 2, axis=0,\n\u001b[0;32m    240\u001b[0m                                weights=sample_weight)\n",
      "\u001b[1;32m~\\Anaconda3\\lib\\site-packages\\sklearn\\metrics\\regression.py\u001b[0m in \u001b[0;36m_check_reg_targets\u001b[1;34m(y_true, y_pred, multioutput)\u001b[0m\n\u001b[0;32m     73\u001b[0m \u001b[1;33m\u001b[0m\u001b[0m\n\u001b[0;32m     74\u001b[0m     \"\"\"\n\u001b[1;32m---> 75\u001b[1;33m     \u001b[0mcheck_consistent_length\u001b[0m\u001b[1;33m(\u001b[0m\u001b[0my_true\u001b[0m\u001b[1;33m,\u001b[0m \u001b[0my_pred\u001b[0m\u001b[1;33m)\u001b[0m\u001b[1;33m\u001b[0m\u001b[0m\n\u001b[0m\u001b[0;32m     76\u001b[0m     \u001b[0my_true\u001b[0m \u001b[1;33m=\u001b[0m \u001b[0mcheck_array\u001b[0m\u001b[1;33m(\u001b[0m\u001b[0my_true\u001b[0m\u001b[1;33m,\u001b[0m \u001b[0mensure_2d\u001b[0m\u001b[1;33m=\u001b[0m\u001b[1;32mFalse\u001b[0m\u001b[1;33m)\u001b[0m\u001b[1;33m\u001b[0m\u001b[0m\n\u001b[0;32m     77\u001b[0m     \u001b[0my_pred\u001b[0m \u001b[1;33m=\u001b[0m \u001b[0mcheck_array\u001b[0m\u001b[1;33m(\u001b[0m\u001b[0my_pred\u001b[0m\u001b[1;33m,\u001b[0m \u001b[0mensure_2d\u001b[0m\u001b[1;33m=\u001b[0m\u001b[1;32mFalse\u001b[0m\u001b[1;33m)\u001b[0m\u001b[1;33m\u001b[0m\u001b[0m\n",
      "\u001b[1;32m~\\Anaconda3\\lib\\site-packages\\sklearn\\utils\\validation.py\u001b[0m in \u001b[0;36mcheck_consistent_length\u001b[1;34m(*arrays)\u001b[0m\n\u001b[0;32m    198\u001b[0m     \"\"\"\n\u001b[0;32m    199\u001b[0m \u001b[1;33m\u001b[0m\u001b[0m\n\u001b[1;32m--> 200\u001b[1;33m     \u001b[0mlengths\u001b[0m \u001b[1;33m=\u001b[0m \u001b[1;33m[\u001b[0m\u001b[0m_num_samples\u001b[0m\u001b[1;33m(\u001b[0m\u001b[0mX\u001b[0m\u001b[1;33m)\u001b[0m \u001b[1;32mfor\u001b[0m \u001b[0mX\u001b[0m \u001b[1;32min\u001b[0m \u001b[0marrays\u001b[0m \u001b[1;32mif\u001b[0m \u001b[0mX\u001b[0m \u001b[1;32mis\u001b[0m \u001b[1;32mnot\u001b[0m \u001b[1;32mNone\u001b[0m\u001b[1;33m]\u001b[0m\u001b[1;33m\u001b[0m\u001b[0m\n\u001b[0m\u001b[0;32m    201\u001b[0m     \u001b[0muniques\u001b[0m \u001b[1;33m=\u001b[0m \u001b[0mnp\u001b[0m\u001b[1;33m.\u001b[0m\u001b[0munique\u001b[0m\u001b[1;33m(\u001b[0m\u001b[0mlengths\u001b[0m\u001b[1;33m)\u001b[0m\u001b[1;33m\u001b[0m\u001b[0m\n\u001b[0;32m    202\u001b[0m     \u001b[1;32mif\u001b[0m \u001b[0mlen\u001b[0m\u001b[1;33m(\u001b[0m\u001b[0muniques\u001b[0m\u001b[1;33m)\u001b[0m \u001b[1;33m>\u001b[0m \u001b[1;36m1\u001b[0m\u001b[1;33m:\u001b[0m\u001b[1;33m\u001b[0m\u001b[0m\n",
      "\u001b[1;32m~\\Anaconda3\\lib\\site-packages\\sklearn\\utils\\validation.py\u001b[0m in \u001b[0;36m<listcomp>\u001b[1;34m(.0)\u001b[0m\n\u001b[0;32m    198\u001b[0m     \"\"\"\n\u001b[0;32m    199\u001b[0m \u001b[1;33m\u001b[0m\u001b[0m\n\u001b[1;32m--> 200\u001b[1;33m     \u001b[0mlengths\u001b[0m \u001b[1;33m=\u001b[0m \u001b[1;33m[\u001b[0m\u001b[0m_num_samples\u001b[0m\u001b[1;33m(\u001b[0m\u001b[0mX\u001b[0m\u001b[1;33m)\u001b[0m \u001b[1;32mfor\u001b[0m \u001b[0mX\u001b[0m \u001b[1;32min\u001b[0m \u001b[0marrays\u001b[0m \u001b[1;32mif\u001b[0m \u001b[0mX\u001b[0m \u001b[1;32mis\u001b[0m \u001b[1;32mnot\u001b[0m \u001b[1;32mNone\u001b[0m\u001b[1;33m]\u001b[0m\u001b[1;33m\u001b[0m\u001b[0m\n\u001b[0m\u001b[0;32m    201\u001b[0m     \u001b[0muniques\u001b[0m \u001b[1;33m=\u001b[0m \u001b[0mnp\u001b[0m\u001b[1;33m.\u001b[0m\u001b[0munique\u001b[0m\u001b[1;33m(\u001b[0m\u001b[0mlengths\u001b[0m\u001b[1;33m)\u001b[0m\u001b[1;33m\u001b[0m\u001b[0m\n\u001b[0;32m    202\u001b[0m     \u001b[1;32mif\u001b[0m \u001b[0mlen\u001b[0m\u001b[1;33m(\u001b[0m\u001b[0muniques\u001b[0m\u001b[1;33m)\u001b[0m \u001b[1;33m>\u001b[0m \u001b[1;36m1\u001b[0m\u001b[1;33m:\u001b[0m\u001b[1;33m\u001b[0m\u001b[0m\n",
      "\u001b[1;32m~\\Anaconda3\\lib\\site-packages\\sklearn\\utils\\validation.py\u001b[0m in \u001b[0;36m_num_samples\u001b[1;34m(x)\u001b[0m\n\u001b[0;32m    117\u001b[0m         \u001b[1;32mif\u001b[0m \u001b[0mlen\u001b[0m\u001b[1;33m(\u001b[0m\u001b[0mx\u001b[0m\u001b[1;33m.\u001b[0m\u001b[0mshape\u001b[0m\u001b[1;33m)\u001b[0m \u001b[1;33m==\u001b[0m \u001b[1;36m0\u001b[0m\u001b[1;33m:\u001b[0m\u001b[1;33m\u001b[0m\u001b[0m\n\u001b[0;32m    118\u001b[0m             raise TypeError(\"Singleton array %r cannot be considered\"\n\u001b[1;32m--> 119\u001b[1;33m                             \" a valid collection.\" % x)\n\u001b[0m\u001b[0;32m    120\u001b[0m         \u001b[1;32mreturn\u001b[0m \u001b[0mx\u001b[0m\u001b[1;33m.\u001b[0m\u001b[0mshape\u001b[0m\u001b[1;33m[\u001b[0m\u001b[1;36m0\u001b[0m\u001b[1;33m]\u001b[0m\u001b[1;33m\u001b[0m\u001b[0m\n\u001b[0;32m    121\u001b[0m     \u001b[1;32melse\u001b[0m\u001b[1;33m:\u001b[0m\u001b[1;33m\u001b[0m\u001b[0m\n",
      "\u001b[1;31mTypeError\u001b[0m: Singleton array 8 cannot be considered a valid collection."
     ]
    }
   ],
   "source": [
    "weights=np.array([0,1,2])\n",
    "input_data=np.array([1,2,3])\n",
    "target=0\n",
    "\n",
    "mse_list=[]\n",
    "learning_rate=0.01\n",
    "\n",
    "\n",
    "for i in range(20):\n",
    "    mse=get_mse(input_data,weights)\n",
    "    mse_list=mse.tolist()\n",
    "    print(mse)\n",
    "    \n",
    "    slope=get_slope2(input_data,weights)\n",
    "\n",
    "    weights=weights-learning_rate*slope\n",
    "    prediction=(input_data*weights).sum()\n",
    "    error=prediction-target\n",
    "    \n",
    "    "
   ]
  },
  {
   "cell_type": "code",
   "execution_count": null,
   "metadata": {},
   "outputs": [],
   "source": []
  }
 ],
 "metadata": {
  "kernelspec": {
   "display_name": "Python 3",
   "language": "python",
   "name": "python3"
  },
  "language_info": {
   "codemirror_mode": {
    "name": "ipython",
    "version": 3
   },
   "file_extension": ".py",
   "mimetype": "text/x-python",
   "name": "python",
   "nbconvert_exporter": "python",
   "pygments_lexer": "ipython3",
   "version": "3.6.5"
  }
 },
 "nbformat": 4,
 "nbformat_minor": 2
}
